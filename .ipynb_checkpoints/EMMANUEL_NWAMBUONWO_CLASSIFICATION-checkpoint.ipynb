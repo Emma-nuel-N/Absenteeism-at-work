{
 "cells": [
  {
   "cell_type": "code",
   "execution_count": 8,
   "id": "13d5b9d1",
   "metadata": {},
   "outputs": [
    {
     "name": "stdout",
     "output_type": "stream",
     "text": [
      "Requirement already satisfied: xlrd in c:\\users\\user\\anaconda32020\\lib\\site-packages (2.0.1)\n"
     ]
    }
   ],
   "source": [
    "!pip install xlrd"
   ]
  },
  {
   "cell_type": "code",
   "execution_count": 123,
   "id": "6d4240b7",
   "metadata": {},
   "outputs": [],
   "source": [
    "#import necessary libraries\n",
    "import pandas as pd\n",
    "import seaborn as sns\n",
    "from sklearn.decomposition import PCA\n",
    "\n",
    "from sklearn.preprocessing import StandardScaler\n",
    "\n",
    "from imblearn.over_sampling import RandomOverSampler\n",
    "\n",
    "from sklearn.metrics import accuracy_score\n",
    "\n",
    "from sklearn.pipeline import make_pipeline, Pipeline\n",
    "\n",
    "from sklearn.linear_model import LogisticRegression\n",
    "\n",
    "from sklearn.metrics import accuracy_score\n",
    "\n",
    "import numpy as np\n",
    "\n",
    "from sklearn.neighbors import KNeighborsClassifier\n",
    "\n",
    "import matplotlib.pyplot as plt\n",
    "\n",
    "from sklearn.metrics import confusion_matrix\n",
    "\n",
    "from sklearn.metrics import classification_report\n",
    "from sklearn.tree import DecisionTreeClassifier, plot_tree\n"
   ]
  },
  {
   "cell_type": "code",
   "execution_count": 142,
   "id": "f3c3d362",
   "metadata": {},
   "outputs": [],
   "source": [
    "#bring in file to environment\n",
    "df=pd.read_excel('Absenteeism_at_work.xls')"
   ]
  },
  {
   "cell_type": "code",
   "execution_count": 143,
   "id": "066baa31",
   "metadata": {},
   "outputs": [
    {
     "data": {
      "text/html": [
       "<div>\n",
       "<style scoped>\n",
       "    .dataframe tbody tr th:only-of-type {\n",
       "        vertical-align: middle;\n",
       "    }\n",
       "\n",
       "    .dataframe tbody tr th {\n",
       "        vertical-align: top;\n",
       "    }\n",
       "\n",
       "    .dataframe thead th {\n",
       "        text-align: right;\n",
       "    }\n",
       "</style>\n",
       "<table border=\"1\" class=\"dataframe\">\n",
       "  <thead>\n",
       "    <tr style=\"text-align: right;\">\n",
       "      <th></th>\n",
       "      <th>ID</th>\n",
       "      <th>Reason for absence</th>\n",
       "      <th>Month of absence</th>\n",
       "      <th>Day of the week</th>\n",
       "      <th>Seasons</th>\n",
       "      <th>Transportation expense</th>\n",
       "      <th>Distance from Residence to Work</th>\n",
       "      <th>Service time</th>\n",
       "      <th>Age</th>\n",
       "      <th>Work load Average/day</th>\n",
       "      <th>...</th>\n",
       "      <th>Disciplinary failure</th>\n",
       "      <th>Education</th>\n",
       "      <th>Son</th>\n",
       "      <th>Social drinker</th>\n",
       "      <th>Social smoker</th>\n",
       "      <th>Pet</th>\n",
       "      <th>Weight</th>\n",
       "      <th>Height</th>\n",
       "      <th>Body mass index</th>\n",
       "      <th>Absenteeism time in hours</th>\n",
       "    </tr>\n",
       "  </thead>\n",
       "  <tbody>\n",
       "    <tr>\n",
       "      <th>0</th>\n",
       "      <td>11</td>\n",
       "      <td>26</td>\n",
       "      <td>7</td>\n",
       "      <td>3</td>\n",
       "      <td>1</td>\n",
       "      <td>289</td>\n",
       "      <td>36</td>\n",
       "      <td>13</td>\n",
       "      <td>33</td>\n",
       "      <td>239554</td>\n",
       "      <td>...</td>\n",
       "      <td>0</td>\n",
       "      <td>1</td>\n",
       "      <td>2</td>\n",
       "      <td>1</td>\n",
       "      <td>0</td>\n",
       "      <td>1</td>\n",
       "      <td>90</td>\n",
       "      <td>172</td>\n",
       "      <td>30</td>\n",
       "      <td>4</td>\n",
       "    </tr>\n",
       "    <tr>\n",
       "      <th>1</th>\n",
       "      <td>36</td>\n",
       "      <td>0</td>\n",
       "      <td>7</td>\n",
       "      <td>3</td>\n",
       "      <td>1</td>\n",
       "      <td>118</td>\n",
       "      <td>13</td>\n",
       "      <td>18</td>\n",
       "      <td>50</td>\n",
       "      <td>239554</td>\n",
       "      <td>...</td>\n",
       "      <td>1</td>\n",
       "      <td>1</td>\n",
       "      <td>1</td>\n",
       "      <td>1</td>\n",
       "      <td>0</td>\n",
       "      <td>0</td>\n",
       "      <td>98</td>\n",
       "      <td>178</td>\n",
       "      <td>31</td>\n",
       "      <td>0</td>\n",
       "    </tr>\n",
       "    <tr>\n",
       "      <th>2</th>\n",
       "      <td>3</td>\n",
       "      <td>23</td>\n",
       "      <td>7</td>\n",
       "      <td>4</td>\n",
       "      <td>1</td>\n",
       "      <td>179</td>\n",
       "      <td>51</td>\n",
       "      <td>18</td>\n",
       "      <td>38</td>\n",
       "      <td>239554</td>\n",
       "      <td>...</td>\n",
       "      <td>0</td>\n",
       "      <td>1</td>\n",
       "      <td>0</td>\n",
       "      <td>1</td>\n",
       "      <td>0</td>\n",
       "      <td>0</td>\n",
       "      <td>89</td>\n",
       "      <td>170</td>\n",
       "      <td>31</td>\n",
       "      <td>2</td>\n",
       "    </tr>\n",
       "    <tr>\n",
       "      <th>3</th>\n",
       "      <td>7</td>\n",
       "      <td>7</td>\n",
       "      <td>7</td>\n",
       "      <td>5</td>\n",
       "      <td>1</td>\n",
       "      <td>279</td>\n",
       "      <td>5</td>\n",
       "      <td>14</td>\n",
       "      <td>39</td>\n",
       "      <td>239554</td>\n",
       "      <td>...</td>\n",
       "      <td>0</td>\n",
       "      <td>1</td>\n",
       "      <td>2</td>\n",
       "      <td>1</td>\n",
       "      <td>1</td>\n",
       "      <td>0</td>\n",
       "      <td>68</td>\n",
       "      <td>168</td>\n",
       "      <td>24</td>\n",
       "      <td>4</td>\n",
       "    </tr>\n",
       "    <tr>\n",
       "      <th>4</th>\n",
       "      <td>11</td>\n",
       "      <td>23</td>\n",
       "      <td>7</td>\n",
       "      <td>5</td>\n",
       "      <td>1</td>\n",
       "      <td>289</td>\n",
       "      <td>36</td>\n",
       "      <td>13</td>\n",
       "      <td>33</td>\n",
       "      <td>239554</td>\n",
       "      <td>...</td>\n",
       "      <td>0</td>\n",
       "      <td>1</td>\n",
       "      <td>2</td>\n",
       "      <td>1</td>\n",
       "      <td>0</td>\n",
       "      <td>1</td>\n",
       "      <td>90</td>\n",
       "      <td>172</td>\n",
       "      <td>30</td>\n",
       "      <td>2</td>\n",
       "    </tr>\n",
       "  </tbody>\n",
       "</table>\n",
       "<p>5 rows × 21 columns</p>\n",
       "</div>"
      ],
      "text/plain": [
       "   ID  Reason for absence  Month of absence  Day of the week  Seasons  \\\n",
       "0  11                  26                 7                3        1   \n",
       "1  36                   0                 7                3        1   \n",
       "2   3                  23                 7                4        1   \n",
       "3   7                   7                 7                5        1   \n",
       "4  11                  23                 7                5        1   \n",
       "\n",
       "   Transportation expense  Distance from Residence to Work  Service time  Age  \\\n",
       "0                     289                               36            13   33   \n",
       "1                     118                               13            18   50   \n",
       "2                     179                               51            18   38   \n",
       "3                     279                                5            14   39   \n",
       "4                     289                               36            13   33   \n",
       "\n",
       "   Work load Average/day   ...  Disciplinary failure  Education  Son  \\\n",
       "0                  239554  ...                     0          1    2   \n",
       "1                  239554  ...                     1          1    1   \n",
       "2                  239554  ...                     0          1    0   \n",
       "3                  239554  ...                     0          1    2   \n",
       "4                  239554  ...                     0          1    2   \n",
       "\n",
       "   Social drinker  Social smoker  Pet  Weight  Height  Body mass index  \\\n",
       "0               1              0    1      90     172               30   \n",
       "1               1              0    0      98     178               31   \n",
       "2               1              0    0      89     170               31   \n",
       "3               1              1    0      68     168               24   \n",
       "4               1              0    1      90     172               30   \n",
       "\n",
       "   Absenteeism time in hours  \n",
       "0                          4  \n",
       "1                          0  \n",
       "2                          2  \n",
       "3                          4  \n",
       "4                          2  \n",
       "\n",
       "[5 rows x 21 columns]"
      ]
     },
     "execution_count": 143,
     "metadata": {},
     "output_type": "execute_result"
    }
   ],
   "source": [
    "#observe first five rows of the dataset\n",
    "df.head()"
   ]
  },
  {
   "cell_type": "code",
   "execution_count": 144,
   "id": "cf73bb0b",
   "metadata": {},
   "outputs": [
    {
     "data": {
      "text/plain": [
       "(740, 21)"
      ]
     },
     "execution_count": 144,
     "metadata": {},
     "output_type": "execute_result"
    }
   ],
   "source": [
    "#get the shape of the dataset\n",
    "df.shape"
   ]
  },
  {
   "cell_type": "code",
   "execution_count": 13,
   "id": "8b870e8c",
   "metadata": {},
   "outputs": [
    {
     "name": "stdout",
     "output_type": "stream",
     "text": [
      "<class 'pandas.core.frame.DataFrame'>\n",
      "RangeIndex: 740 entries, 0 to 739\n",
      "Data columns (total 21 columns):\n",
      " #   Column                           Non-Null Count  Dtype\n",
      "---  ------                           --------------  -----\n",
      " 0   ID                               740 non-null    int64\n",
      " 1   Reason for absence               740 non-null    int64\n",
      " 2   Month of absence                 740 non-null    int64\n",
      " 3   Day of the week                  740 non-null    int64\n",
      " 4   Seasons                          740 non-null    int64\n",
      " 5   Transportation expense           740 non-null    int64\n",
      " 6   Distance from Residence to Work  740 non-null    int64\n",
      " 7   Service time                     740 non-null    int64\n",
      " 8   Age                              740 non-null    int64\n",
      " 9   Work load Average/day            740 non-null    int64\n",
      " 10  Hit target                       740 non-null    int64\n",
      " 11  Disciplinary failure             740 non-null    int64\n",
      " 12  Education                        740 non-null    int64\n",
      " 13  Son                              740 non-null    int64\n",
      " 14  Social drinker                   740 non-null    int64\n",
      " 15  Social smoker                    740 non-null    int64\n",
      " 16  Pet                              740 non-null    int64\n",
      " 17  Weight                           740 non-null    int64\n",
      " 18  Height                           740 non-null    int64\n",
      " 19  Body mass index                  740 non-null    int64\n",
      " 20  Absenteeism time in hours        740 non-null    int64\n",
      "dtypes: int64(21)\n",
      "memory usage: 121.5 KB\n"
     ]
    }
   ],
   "source": [
    " #Take a look at the data types and also see if we have any missing data and all other information about the data\n",
    "df.info()"
   ]
  },
  {
   "cell_type": "code",
   "execution_count": null,
   "id": "84e76cac",
   "metadata": {},
   "outputs": [],
   "source": []
  },
  {
   "cell_type": "code",
   "execution_count": 14,
   "id": "0101131a",
   "metadata": {},
   "outputs": [
    {
     "data": {
      "text/html": [
       "<div>\n",
       "<style scoped>\n",
       "    .dataframe tbody tr th:only-of-type {\n",
       "        vertical-align: middle;\n",
       "    }\n",
       "\n",
       "    .dataframe tbody tr th {\n",
       "        vertical-align: top;\n",
       "    }\n",
       "\n",
       "    .dataframe thead th {\n",
       "        text-align: right;\n",
       "    }\n",
       "</style>\n",
       "<table border=\"1\" class=\"dataframe\">\n",
       "  <thead>\n",
       "    <tr style=\"text-align: right;\">\n",
       "      <th></th>\n",
       "      <th>count</th>\n",
       "      <th>mean</th>\n",
       "      <th>std</th>\n",
       "      <th>min</th>\n",
       "      <th>25%</th>\n",
       "      <th>50%</th>\n",
       "      <th>75%</th>\n",
       "      <th>max</th>\n",
       "    </tr>\n",
       "  </thead>\n",
       "  <tbody>\n",
       "    <tr>\n",
       "      <th>ID</th>\n",
       "      <td>740.0</td>\n",
       "      <td>18.017568</td>\n",
       "      <td>11.021247</td>\n",
       "      <td>1.0</td>\n",
       "      <td>9.0</td>\n",
       "      <td>18.0</td>\n",
       "      <td>28.0</td>\n",
       "      <td>36.0</td>\n",
       "    </tr>\n",
       "    <tr>\n",
       "      <th>Reason for absence</th>\n",
       "      <td>740.0</td>\n",
       "      <td>19.216216</td>\n",
       "      <td>8.433406</td>\n",
       "      <td>0.0</td>\n",
       "      <td>13.0</td>\n",
       "      <td>23.0</td>\n",
       "      <td>26.0</td>\n",
       "      <td>28.0</td>\n",
       "    </tr>\n",
       "    <tr>\n",
       "      <th>Month of absence</th>\n",
       "      <td>740.0</td>\n",
       "      <td>6.324324</td>\n",
       "      <td>3.436287</td>\n",
       "      <td>0.0</td>\n",
       "      <td>3.0</td>\n",
       "      <td>6.0</td>\n",
       "      <td>9.0</td>\n",
       "      <td>12.0</td>\n",
       "    </tr>\n",
       "    <tr>\n",
       "      <th>Day of the week</th>\n",
       "      <td>740.0</td>\n",
       "      <td>3.914865</td>\n",
       "      <td>1.421675</td>\n",
       "      <td>2.0</td>\n",
       "      <td>3.0</td>\n",
       "      <td>4.0</td>\n",
       "      <td>5.0</td>\n",
       "      <td>6.0</td>\n",
       "    </tr>\n",
       "    <tr>\n",
       "      <th>Seasons</th>\n",
       "      <td>740.0</td>\n",
       "      <td>2.544595</td>\n",
       "      <td>1.111831</td>\n",
       "      <td>1.0</td>\n",
       "      <td>2.0</td>\n",
       "      <td>3.0</td>\n",
       "      <td>4.0</td>\n",
       "      <td>4.0</td>\n",
       "    </tr>\n",
       "    <tr>\n",
       "      <th>Transportation expense</th>\n",
       "      <td>740.0</td>\n",
       "      <td>221.329730</td>\n",
       "      <td>66.952223</td>\n",
       "      <td>118.0</td>\n",
       "      <td>179.0</td>\n",
       "      <td>225.0</td>\n",
       "      <td>260.0</td>\n",
       "      <td>388.0</td>\n",
       "    </tr>\n",
       "    <tr>\n",
       "      <th>Distance from Residence to Work</th>\n",
       "      <td>740.0</td>\n",
       "      <td>29.631081</td>\n",
       "      <td>14.836788</td>\n",
       "      <td>5.0</td>\n",
       "      <td>16.0</td>\n",
       "      <td>26.0</td>\n",
       "      <td>50.0</td>\n",
       "      <td>52.0</td>\n",
       "    </tr>\n",
       "    <tr>\n",
       "      <th>Service time</th>\n",
       "      <td>740.0</td>\n",
       "      <td>12.554054</td>\n",
       "      <td>4.384873</td>\n",
       "      <td>1.0</td>\n",
       "      <td>9.0</td>\n",
       "      <td>13.0</td>\n",
       "      <td>16.0</td>\n",
       "      <td>29.0</td>\n",
       "    </tr>\n",
       "    <tr>\n",
       "      <th>Age</th>\n",
       "      <td>740.0</td>\n",
       "      <td>36.450000</td>\n",
       "      <td>6.478772</td>\n",
       "      <td>27.0</td>\n",
       "      <td>31.0</td>\n",
       "      <td>37.0</td>\n",
       "      <td>40.0</td>\n",
       "      <td>58.0</td>\n",
       "    </tr>\n",
       "    <tr>\n",
       "      <th>Work load Average/day</th>\n",
       "      <td>740.0</td>\n",
       "      <td>271490.235135</td>\n",
       "      <td>39058.116188</td>\n",
       "      <td>205917.0</td>\n",
       "      <td>244387.0</td>\n",
       "      <td>264249.0</td>\n",
       "      <td>294217.0</td>\n",
       "      <td>378884.0</td>\n",
       "    </tr>\n",
       "    <tr>\n",
       "      <th>Hit target</th>\n",
       "      <td>740.0</td>\n",
       "      <td>94.587838</td>\n",
       "      <td>3.779313</td>\n",
       "      <td>81.0</td>\n",
       "      <td>93.0</td>\n",
       "      <td>95.0</td>\n",
       "      <td>97.0</td>\n",
       "      <td>100.0</td>\n",
       "    </tr>\n",
       "    <tr>\n",
       "      <th>Disciplinary failure</th>\n",
       "      <td>740.0</td>\n",
       "      <td>0.054054</td>\n",
       "      <td>0.226277</td>\n",
       "      <td>0.0</td>\n",
       "      <td>0.0</td>\n",
       "      <td>0.0</td>\n",
       "      <td>0.0</td>\n",
       "      <td>1.0</td>\n",
       "    </tr>\n",
       "    <tr>\n",
       "      <th>Education</th>\n",
       "      <td>740.0</td>\n",
       "      <td>1.291892</td>\n",
       "      <td>0.673238</td>\n",
       "      <td>1.0</td>\n",
       "      <td>1.0</td>\n",
       "      <td>1.0</td>\n",
       "      <td>1.0</td>\n",
       "      <td>4.0</td>\n",
       "    </tr>\n",
       "    <tr>\n",
       "      <th>Son</th>\n",
       "      <td>740.0</td>\n",
       "      <td>1.018919</td>\n",
       "      <td>1.098489</td>\n",
       "      <td>0.0</td>\n",
       "      <td>0.0</td>\n",
       "      <td>1.0</td>\n",
       "      <td>2.0</td>\n",
       "      <td>4.0</td>\n",
       "    </tr>\n",
       "    <tr>\n",
       "      <th>Social drinker</th>\n",
       "      <td>740.0</td>\n",
       "      <td>0.567568</td>\n",
       "      <td>0.495749</td>\n",
       "      <td>0.0</td>\n",
       "      <td>0.0</td>\n",
       "      <td>1.0</td>\n",
       "      <td>1.0</td>\n",
       "      <td>1.0</td>\n",
       "    </tr>\n",
       "    <tr>\n",
       "      <th>Social smoker</th>\n",
       "      <td>740.0</td>\n",
       "      <td>0.072973</td>\n",
       "      <td>0.260268</td>\n",
       "      <td>0.0</td>\n",
       "      <td>0.0</td>\n",
       "      <td>0.0</td>\n",
       "      <td>0.0</td>\n",
       "      <td>1.0</td>\n",
       "    </tr>\n",
       "    <tr>\n",
       "      <th>Pet</th>\n",
       "      <td>740.0</td>\n",
       "      <td>0.745946</td>\n",
       "      <td>1.318258</td>\n",
       "      <td>0.0</td>\n",
       "      <td>0.0</td>\n",
       "      <td>0.0</td>\n",
       "      <td>1.0</td>\n",
       "      <td>8.0</td>\n",
       "    </tr>\n",
       "    <tr>\n",
       "      <th>Weight</th>\n",
       "      <td>740.0</td>\n",
       "      <td>79.035135</td>\n",
       "      <td>12.883211</td>\n",
       "      <td>56.0</td>\n",
       "      <td>69.0</td>\n",
       "      <td>83.0</td>\n",
       "      <td>89.0</td>\n",
       "      <td>108.0</td>\n",
       "    </tr>\n",
       "    <tr>\n",
       "      <th>Height</th>\n",
       "      <td>740.0</td>\n",
       "      <td>172.114865</td>\n",
       "      <td>6.034995</td>\n",
       "      <td>163.0</td>\n",
       "      <td>169.0</td>\n",
       "      <td>170.0</td>\n",
       "      <td>172.0</td>\n",
       "      <td>196.0</td>\n",
       "    </tr>\n",
       "    <tr>\n",
       "      <th>Body mass index</th>\n",
       "      <td>740.0</td>\n",
       "      <td>26.677027</td>\n",
       "      <td>4.285452</td>\n",
       "      <td>19.0</td>\n",
       "      <td>24.0</td>\n",
       "      <td>25.0</td>\n",
       "      <td>31.0</td>\n",
       "      <td>38.0</td>\n",
       "    </tr>\n",
       "    <tr>\n",
       "      <th>Absenteeism time in hours</th>\n",
       "      <td>740.0</td>\n",
       "      <td>6.924324</td>\n",
       "      <td>13.330998</td>\n",
       "      <td>0.0</td>\n",
       "      <td>2.0</td>\n",
       "      <td>3.0</td>\n",
       "      <td>8.0</td>\n",
       "      <td>120.0</td>\n",
       "    </tr>\n",
       "  </tbody>\n",
       "</table>\n",
       "</div>"
      ],
      "text/plain": [
       "                                 count           mean           std       min  \\\n",
       "ID                               740.0      18.017568     11.021247       1.0   \n",
       "Reason for absence               740.0      19.216216      8.433406       0.0   \n",
       "Month of absence                 740.0       6.324324      3.436287       0.0   \n",
       "Day of the week                  740.0       3.914865      1.421675       2.0   \n",
       "Seasons                          740.0       2.544595      1.111831       1.0   \n",
       "Transportation expense           740.0     221.329730     66.952223     118.0   \n",
       "Distance from Residence to Work  740.0      29.631081     14.836788       5.0   \n",
       "Service time                     740.0      12.554054      4.384873       1.0   \n",
       "Age                              740.0      36.450000      6.478772      27.0   \n",
       "Work load Average/day            740.0  271490.235135  39058.116188  205917.0   \n",
       "Hit target                       740.0      94.587838      3.779313      81.0   \n",
       "Disciplinary failure             740.0       0.054054      0.226277       0.0   \n",
       "Education                        740.0       1.291892      0.673238       1.0   \n",
       "Son                              740.0       1.018919      1.098489       0.0   \n",
       "Social drinker                   740.0       0.567568      0.495749       0.0   \n",
       "Social smoker                    740.0       0.072973      0.260268       0.0   \n",
       "Pet                              740.0       0.745946      1.318258       0.0   \n",
       "Weight                           740.0      79.035135     12.883211      56.0   \n",
       "Height                           740.0     172.114865      6.034995     163.0   \n",
       "Body mass index                  740.0      26.677027      4.285452      19.0   \n",
       "Absenteeism time in hours        740.0       6.924324     13.330998       0.0   \n",
       "\n",
       "                                      25%       50%       75%       max  \n",
       "ID                                    9.0      18.0      28.0      36.0  \n",
       "Reason for absence                   13.0      23.0      26.0      28.0  \n",
       "Month of absence                      3.0       6.0       9.0      12.0  \n",
       "Day of the week                       3.0       4.0       5.0       6.0  \n",
       "Seasons                               2.0       3.0       4.0       4.0  \n",
       "Transportation expense              179.0     225.0     260.0     388.0  \n",
       "Distance from Residence to Work      16.0      26.0      50.0      52.0  \n",
       "Service time                          9.0      13.0      16.0      29.0  \n",
       "Age                                  31.0      37.0      40.0      58.0  \n",
       "Work load Average/day            244387.0  264249.0  294217.0  378884.0  \n",
       "Hit target                           93.0      95.0      97.0     100.0  \n",
       "Disciplinary failure                  0.0       0.0       0.0       1.0  \n",
       "Education                             1.0       1.0       1.0       4.0  \n",
       "Son                                   0.0       1.0       2.0       4.0  \n",
       "Social drinker                        0.0       1.0       1.0       1.0  \n",
       "Social smoker                         0.0       0.0       0.0       1.0  \n",
       "Pet                                   0.0       0.0       1.0       8.0  \n",
       "Weight                               69.0      83.0      89.0     108.0  \n",
       "Height                              169.0     170.0     172.0     196.0  \n",
       "Body mass index                      24.0      25.0      31.0      38.0  \n",
       "Absenteeism time in hours             2.0       3.0       8.0     120.0  "
      ]
     },
     "execution_count": 14,
     "metadata": {},
     "output_type": "execute_result"
    }
   ],
   "source": [
    "#get the basic statistics on the dataset\n",
    "df.describe().T"
   ]
  },
  {
   "cell_type": "code",
   "execution_count": 164,
   "id": "d95503d7",
   "metadata": {},
   "outputs": [
    {
     "data": {
      "text/html": [
       "<div>\n",
       "<style scoped>\n",
       "    .dataframe tbody tr th:only-of-type {\n",
       "        vertical-align: middle;\n",
       "    }\n",
       "\n",
       "    .dataframe tbody tr th {\n",
       "        vertical-align: top;\n",
       "    }\n",
       "\n",
       "    .dataframe thead th {\n",
       "        text-align: right;\n",
       "    }\n",
       "</style>\n",
       "<table border=\"1\" class=\"dataframe\">\n",
       "  <thead>\n",
       "    <tr style=\"text-align: right;\">\n",
       "      <th></th>\n",
       "      <th>ID</th>\n",
       "      <th>Reason for absence</th>\n",
       "      <th>Month of absence</th>\n",
       "      <th>Day of the week</th>\n",
       "      <th>Seasons</th>\n",
       "      <th>Transportation expense</th>\n",
       "      <th>Distance from Residence to Work</th>\n",
       "      <th>Service time</th>\n",
       "      <th>Age</th>\n",
       "      <th>Work load Average/day</th>\n",
       "      <th>...</th>\n",
       "      <th>Social drinker</th>\n",
       "      <th>Social smoker</th>\n",
       "      <th>Pet</th>\n",
       "      <th>Weight</th>\n",
       "      <th>Height</th>\n",
       "      <th>Body mass index</th>\n",
       "      <th>Absenteeism time in hours</th>\n",
       "      <th>mask</th>\n",
       "      <th>mask_lower</th>\n",
       "      <th>Absent</th>\n",
       "    </tr>\n",
       "  </thead>\n",
       "  <tbody>\n",
       "    <tr>\n",
       "      <th>16</th>\n",
       "      <td>3</td>\n",
       "      <td>23</td>\n",
       "      <td>7</td>\n",
       "      <td>6</td>\n",
       "      <td>1</td>\n",
       "      <td>179</td>\n",
       "      <td>51</td>\n",
       "      <td>18</td>\n",
       "      <td>38</td>\n",
       "      <td>239554</td>\n",
       "      <td>...</td>\n",
       "      <td>1</td>\n",
       "      <td>0</td>\n",
       "      <td>0</td>\n",
       "      <td>89</td>\n",
       "      <td>170</td>\n",
       "      <td>31</td>\n",
       "      <td>2</td>\n",
       "      <td>False</td>\n",
       "      <td>True</td>\n",
       "      <td>0</td>\n",
       "    </tr>\n",
       "    <tr>\n",
       "      <th>68</th>\n",
       "      <td>34</td>\n",
       "      <td>23</td>\n",
       "      <td>10</td>\n",
       "      <td>3</td>\n",
       "      <td>4</td>\n",
       "      <td>118</td>\n",
       "      <td>10</td>\n",
       "      <td>10</td>\n",
       "      <td>37</td>\n",
       "      <td>253465</td>\n",
       "      <td>...</td>\n",
       "      <td>0</td>\n",
       "      <td>0</td>\n",
       "      <td>0</td>\n",
       "      <td>83</td>\n",
       "      <td>172</td>\n",
       "      <td>28</td>\n",
       "      <td>3</td>\n",
       "      <td>False</td>\n",
       "      <td>False</td>\n",
       "      <td>0</td>\n",
       "    </tr>\n",
       "    <tr>\n",
       "      <th>88</th>\n",
       "      <td>28</td>\n",
       "      <td>23</td>\n",
       "      <td>11</td>\n",
       "      <td>4</td>\n",
       "      <td>4</td>\n",
       "      <td>225</td>\n",
       "      <td>26</td>\n",
       "      <td>9</td>\n",
       "      <td>28</td>\n",
       "      <td>306345</td>\n",
       "      <td>...</td>\n",
       "      <td>0</td>\n",
       "      <td>0</td>\n",
       "      <td>2</td>\n",
       "      <td>69</td>\n",
       "      <td>169</td>\n",
       "      <td>24</td>\n",
       "      <td>1</td>\n",
       "      <td>False</td>\n",
       "      <td>True</td>\n",
       "      <td>0</td>\n",
       "    </tr>\n",
       "    <tr>\n",
       "      <th>109</th>\n",
       "      <td>10</td>\n",
       "      <td>22</td>\n",
       "      <td>12</td>\n",
       "      <td>4</td>\n",
       "      <td>4</td>\n",
       "      <td>361</td>\n",
       "      <td>52</td>\n",
       "      <td>3</td>\n",
       "      <td>28</td>\n",
       "      <td>261306</td>\n",
       "      <td>...</td>\n",
       "      <td>1</td>\n",
       "      <td>0</td>\n",
       "      <td>4</td>\n",
       "      <td>80</td>\n",
       "      <td>172</td>\n",
       "      <td>27</td>\n",
       "      <td>8</td>\n",
       "      <td>True</td>\n",
       "      <td>False</td>\n",
       "      <td>1</td>\n",
       "    </tr>\n",
       "    <tr>\n",
       "      <th>127</th>\n",
       "      <td>34</td>\n",
       "      <td>27</td>\n",
       "      <td>1</td>\n",
       "      <td>2</td>\n",
       "      <td>2</td>\n",
       "      <td>118</td>\n",
       "      <td>10</td>\n",
       "      <td>10</td>\n",
       "      <td>37</td>\n",
       "      <td>308593</td>\n",
       "      <td>...</td>\n",
       "      <td>0</td>\n",
       "      <td>0</td>\n",
       "      <td>0</td>\n",
       "      <td>83</td>\n",
       "      <td>172</td>\n",
       "      <td>28</td>\n",
       "      <td>2</td>\n",
       "      <td>False</td>\n",
       "      <td>True</td>\n",
       "      <td>0</td>\n",
       "    </tr>\n",
       "    <tr>\n",
       "      <th>128</th>\n",
       "      <td>34</td>\n",
       "      <td>27</td>\n",
       "      <td>1</td>\n",
       "      <td>3</td>\n",
       "      <td>2</td>\n",
       "      <td>118</td>\n",
       "      <td>10</td>\n",
       "      <td>10</td>\n",
       "      <td>37</td>\n",
       "      <td>308593</td>\n",
       "      <td>...</td>\n",
       "      <td>0</td>\n",
       "      <td>0</td>\n",
       "      <td>0</td>\n",
       "      <td>83</td>\n",
       "      <td>172</td>\n",
       "      <td>28</td>\n",
       "      <td>2</td>\n",
       "      <td>False</td>\n",
       "      <td>True</td>\n",
       "      <td>0</td>\n",
       "    </tr>\n",
       "    <tr>\n",
       "      <th>131</th>\n",
       "      <td>34</td>\n",
       "      <td>27</td>\n",
       "      <td>1</td>\n",
       "      <td>4</td>\n",
       "      <td>2</td>\n",
       "      <td>118</td>\n",
       "      <td>10</td>\n",
       "      <td>10</td>\n",
       "      <td>37</td>\n",
       "      <td>308593</td>\n",
       "      <td>...</td>\n",
       "      <td>0</td>\n",
       "      <td>0</td>\n",
       "      <td>0</td>\n",
       "      <td>83</td>\n",
       "      <td>172</td>\n",
       "      <td>28</td>\n",
       "      <td>2</td>\n",
       "      <td>False</td>\n",
       "      <td>True</td>\n",
       "      <td>0</td>\n",
       "    </tr>\n",
       "    <tr>\n",
       "      <th>132</th>\n",
       "      <td>27</td>\n",
       "      <td>23</td>\n",
       "      <td>1</td>\n",
       "      <td>5</td>\n",
       "      <td>2</td>\n",
       "      <td>184</td>\n",
       "      <td>42</td>\n",
       "      <td>7</td>\n",
       "      <td>27</td>\n",
       "      <td>308593</td>\n",
       "      <td>...</td>\n",
       "      <td>0</td>\n",
       "      <td>0</td>\n",
       "      <td>0</td>\n",
       "      <td>58</td>\n",
       "      <td>167</td>\n",
       "      <td>21</td>\n",
       "      <td>2</td>\n",
       "      <td>False</td>\n",
       "      <td>True</td>\n",
       "      <td>0</td>\n",
       "    </tr>\n",
       "    <tr>\n",
       "      <th>133</th>\n",
       "      <td>34</td>\n",
       "      <td>27</td>\n",
       "      <td>1</td>\n",
       "      <td>5</td>\n",
       "      <td>2</td>\n",
       "      <td>118</td>\n",
       "      <td>10</td>\n",
       "      <td>10</td>\n",
       "      <td>37</td>\n",
       "      <td>308593</td>\n",
       "      <td>...</td>\n",
       "      <td>0</td>\n",
       "      <td>0</td>\n",
       "      <td>0</td>\n",
       "      <td>83</td>\n",
       "      <td>172</td>\n",
       "      <td>28</td>\n",
       "      <td>2</td>\n",
       "      <td>False</td>\n",
       "      <td>True</td>\n",
       "      <td>0</td>\n",
       "    </tr>\n",
       "    <tr>\n",
       "      <th>305</th>\n",
       "      <td>5</td>\n",
       "      <td>23</td>\n",
       "      <td>10</td>\n",
       "      <td>2</td>\n",
       "      <td>4</td>\n",
       "      <td>235</td>\n",
       "      <td>20</td>\n",
       "      <td>13</td>\n",
       "      <td>43</td>\n",
       "      <td>265017</td>\n",
       "      <td>...</td>\n",
       "      <td>1</td>\n",
       "      <td>0</td>\n",
       "      <td>0</td>\n",
       "      <td>106</td>\n",
       "      <td>167</td>\n",
       "      <td>38</td>\n",
       "      <td>2</td>\n",
       "      <td>False</td>\n",
       "      <td>True</td>\n",
       "      <td>0</td>\n",
       "    </tr>\n",
       "    <tr>\n",
       "      <th>351</th>\n",
       "      <td>3</td>\n",
       "      <td>28</td>\n",
       "      <td>12</td>\n",
       "      <td>6</td>\n",
       "      <td>4</td>\n",
       "      <td>179</td>\n",
       "      <td>51</td>\n",
       "      <td>18</td>\n",
       "      <td>38</td>\n",
       "      <td>236629</td>\n",
       "      <td>...</td>\n",
       "      <td>1</td>\n",
       "      <td>0</td>\n",
       "      <td>0</td>\n",
       "      <td>89</td>\n",
       "      <td>170</td>\n",
       "      <td>31</td>\n",
       "      <td>1</td>\n",
       "      <td>False</td>\n",
       "      <td>True</td>\n",
       "      <td>0</td>\n",
       "    </tr>\n",
       "    <tr>\n",
       "      <th>376</th>\n",
       "      <td>3</td>\n",
       "      <td>27</td>\n",
       "      <td>2</td>\n",
       "      <td>4</td>\n",
       "      <td>2</td>\n",
       "      <td>179</td>\n",
       "      <td>51</td>\n",
       "      <td>18</td>\n",
       "      <td>38</td>\n",
       "      <td>251818</td>\n",
       "      <td>...</td>\n",
       "      <td>1</td>\n",
       "      <td>0</td>\n",
       "      <td>0</td>\n",
       "      <td>89</td>\n",
       "      <td>170</td>\n",
       "      <td>31</td>\n",
       "      <td>3</td>\n",
       "      <td>False</td>\n",
       "      <td>False</td>\n",
       "      <td>0</td>\n",
       "    </tr>\n",
       "    <tr>\n",
       "      <th>385</th>\n",
       "      <td>3</td>\n",
       "      <td>27</td>\n",
       "      <td>2</td>\n",
       "      <td>4</td>\n",
       "      <td>2</td>\n",
       "      <td>179</td>\n",
       "      <td>51</td>\n",
       "      <td>18</td>\n",
       "      <td>38</td>\n",
       "      <td>251818</td>\n",
       "      <td>...</td>\n",
       "      <td>1</td>\n",
       "      <td>0</td>\n",
       "      <td>0</td>\n",
       "      <td>89</td>\n",
       "      <td>170</td>\n",
       "      <td>31</td>\n",
       "      <td>3</td>\n",
       "      <td>False</td>\n",
       "      <td>False</td>\n",
       "      <td>0</td>\n",
       "    </tr>\n",
       "    <tr>\n",
       "      <th>386</th>\n",
       "      <td>3</td>\n",
       "      <td>27</td>\n",
       "      <td>2</td>\n",
       "      <td>6</td>\n",
       "      <td>2</td>\n",
       "      <td>179</td>\n",
       "      <td>51</td>\n",
       "      <td>18</td>\n",
       "      <td>38</td>\n",
       "      <td>251818</td>\n",
       "      <td>...</td>\n",
       "      <td>1</td>\n",
       "      <td>0</td>\n",
       "      <td>0</td>\n",
       "      <td>89</td>\n",
       "      <td>170</td>\n",
       "      <td>31</td>\n",
       "      <td>3</td>\n",
       "      <td>False</td>\n",
       "      <td>False</td>\n",
       "      <td>0</td>\n",
       "    </tr>\n",
       "    <tr>\n",
       "      <th>388</th>\n",
       "      <td>3</td>\n",
       "      <td>27</td>\n",
       "      <td>2</td>\n",
       "      <td>4</td>\n",
       "      <td>2</td>\n",
       "      <td>179</td>\n",
       "      <td>51</td>\n",
       "      <td>18</td>\n",
       "      <td>38</td>\n",
       "      <td>251818</td>\n",
       "      <td>...</td>\n",
       "      <td>1</td>\n",
       "      <td>0</td>\n",
       "      <td>0</td>\n",
       "      <td>89</td>\n",
       "      <td>170</td>\n",
       "      <td>31</td>\n",
       "      <td>3</td>\n",
       "      <td>False</td>\n",
       "      <td>False</td>\n",
       "      <td>0</td>\n",
       "    </tr>\n",
       "    <tr>\n",
       "      <th>389</th>\n",
       "      <td>3</td>\n",
       "      <td>27</td>\n",
       "      <td>2</td>\n",
       "      <td>6</td>\n",
       "      <td>2</td>\n",
       "      <td>179</td>\n",
       "      <td>51</td>\n",
       "      <td>18</td>\n",
       "      <td>38</td>\n",
       "      <td>251818</td>\n",
       "      <td>...</td>\n",
       "      <td>1</td>\n",
       "      <td>0</td>\n",
       "      <td>0</td>\n",
       "      <td>89</td>\n",
       "      <td>170</td>\n",
       "      <td>31</td>\n",
       "      <td>3</td>\n",
       "      <td>False</td>\n",
       "      <td>False</td>\n",
       "      <td>0</td>\n",
       "    </tr>\n",
       "    <tr>\n",
       "      <th>440</th>\n",
       "      <td>22</td>\n",
       "      <td>23</td>\n",
       "      <td>5</td>\n",
       "      <td>4</td>\n",
       "      <td>3</td>\n",
       "      <td>179</td>\n",
       "      <td>26</td>\n",
       "      <td>9</td>\n",
       "      <td>30</td>\n",
       "      <td>246074</td>\n",
       "      <td>...</td>\n",
       "      <td>0</td>\n",
       "      <td>0</td>\n",
       "      <td>0</td>\n",
       "      <td>56</td>\n",
       "      <td>171</td>\n",
       "      <td>19</td>\n",
       "      <td>3</td>\n",
       "      <td>False</td>\n",
       "      <td>False</td>\n",
       "      <td>0</td>\n",
       "    </tr>\n",
       "    <tr>\n",
       "      <th>477</th>\n",
       "      <td>24</td>\n",
       "      <td>28</td>\n",
       "      <td>7</td>\n",
       "      <td>3</td>\n",
       "      <td>1</td>\n",
       "      <td>246</td>\n",
       "      <td>25</td>\n",
       "      <td>16</td>\n",
       "      <td>41</td>\n",
       "      <td>230290</td>\n",
       "      <td>...</td>\n",
       "      <td>1</td>\n",
       "      <td>0</td>\n",
       "      <td>0</td>\n",
       "      <td>67</td>\n",
       "      <td>170</td>\n",
       "      <td>23</td>\n",
       "      <td>2</td>\n",
       "      <td>False</td>\n",
       "      <td>True</td>\n",
       "      <td>0</td>\n",
       "    </tr>\n",
       "    <tr>\n",
       "      <th>496</th>\n",
       "      <td>24</td>\n",
       "      <td>28</td>\n",
       "      <td>9</td>\n",
       "      <td>3</td>\n",
       "      <td>1</td>\n",
       "      <td>246</td>\n",
       "      <td>25</td>\n",
       "      <td>16</td>\n",
       "      <td>41</td>\n",
       "      <td>261756</td>\n",
       "      <td>...</td>\n",
       "      <td>1</td>\n",
       "      <td>0</td>\n",
       "      <td>0</td>\n",
       "      <td>67</td>\n",
       "      <td>170</td>\n",
       "      <td>23</td>\n",
       "      <td>1</td>\n",
       "      <td>False</td>\n",
       "      <td>True</td>\n",
       "      <td>0</td>\n",
       "    </tr>\n",
       "    <tr>\n",
       "      <th>560</th>\n",
       "      <td>28</td>\n",
       "      <td>23</td>\n",
       "      <td>12</td>\n",
       "      <td>4</td>\n",
       "      <td>4</td>\n",
       "      <td>225</td>\n",
       "      <td>26</td>\n",
       "      <td>9</td>\n",
       "      <td>28</td>\n",
       "      <td>280549</td>\n",
       "      <td>...</td>\n",
       "      <td>0</td>\n",
       "      <td>0</td>\n",
       "      <td>2</td>\n",
       "      <td>69</td>\n",
       "      <td>169</td>\n",
       "      <td>24</td>\n",
       "      <td>3</td>\n",
       "      <td>False</td>\n",
       "      <td>False</td>\n",
       "      <td>0</td>\n",
       "    </tr>\n",
       "    <tr>\n",
       "      <th>605</th>\n",
       "      <td>3</td>\n",
       "      <td>27</td>\n",
       "      <td>2</td>\n",
       "      <td>4</td>\n",
       "      <td>2</td>\n",
       "      <td>179</td>\n",
       "      <td>51</td>\n",
       "      <td>18</td>\n",
       "      <td>38</td>\n",
       "      <td>264249</td>\n",
       "      <td>...</td>\n",
       "      <td>1</td>\n",
       "      <td>0</td>\n",
       "      <td>0</td>\n",
       "      <td>89</td>\n",
       "      <td>170</td>\n",
       "      <td>31</td>\n",
       "      <td>2</td>\n",
       "      <td>False</td>\n",
       "      <td>True</td>\n",
       "      <td>0</td>\n",
       "    </tr>\n",
       "    <tr>\n",
       "      <th>607</th>\n",
       "      <td>3</td>\n",
       "      <td>27</td>\n",
       "      <td>2</td>\n",
       "      <td>6</td>\n",
       "      <td>2</td>\n",
       "      <td>179</td>\n",
       "      <td>51</td>\n",
       "      <td>18</td>\n",
       "      <td>38</td>\n",
       "      <td>264249</td>\n",
       "      <td>...</td>\n",
       "      <td>1</td>\n",
       "      <td>0</td>\n",
       "      <td>0</td>\n",
       "      <td>89</td>\n",
       "      <td>170</td>\n",
       "      <td>31</td>\n",
       "      <td>2</td>\n",
       "      <td>False</td>\n",
       "      <td>True</td>\n",
       "      <td>0</td>\n",
       "    </tr>\n",
       "    <tr>\n",
       "      <th>610</th>\n",
       "      <td>3</td>\n",
       "      <td>27</td>\n",
       "      <td>2</td>\n",
       "      <td>2</td>\n",
       "      <td>2</td>\n",
       "      <td>179</td>\n",
       "      <td>51</td>\n",
       "      <td>18</td>\n",
       "      <td>38</td>\n",
       "      <td>264249</td>\n",
       "      <td>...</td>\n",
       "      <td>1</td>\n",
       "      <td>0</td>\n",
       "      <td>0</td>\n",
       "      <td>89</td>\n",
       "      <td>170</td>\n",
       "      <td>31</td>\n",
       "      <td>2</td>\n",
       "      <td>False</td>\n",
       "      <td>True</td>\n",
       "      <td>0</td>\n",
       "    </tr>\n",
       "    <tr>\n",
       "      <th>615</th>\n",
       "      <td>3</td>\n",
       "      <td>27</td>\n",
       "      <td>2</td>\n",
       "      <td>4</td>\n",
       "      <td>2</td>\n",
       "      <td>179</td>\n",
       "      <td>51</td>\n",
       "      <td>18</td>\n",
       "      <td>38</td>\n",
       "      <td>264249</td>\n",
       "      <td>...</td>\n",
       "      <td>1</td>\n",
       "      <td>0</td>\n",
       "      <td>0</td>\n",
       "      <td>89</td>\n",
       "      <td>170</td>\n",
       "      <td>31</td>\n",
       "      <td>2</td>\n",
       "      <td>False</td>\n",
       "      <td>True</td>\n",
       "      <td>0</td>\n",
       "    </tr>\n",
       "    <tr>\n",
       "      <th>616</th>\n",
       "      <td>3</td>\n",
       "      <td>27</td>\n",
       "      <td>2</td>\n",
       "      <td>5</td>\n",
       "      <td>2</td>\n",
       "      <td>179</td>\n",
       "      <td>51</td>\n",
       "      <td>18</td>\n",
       "      <td>38</td>\n",
       "      <td>264249</td>\n",
       "      <td>...</td>\n",
       "      <td>1</td>\n",
       "      <td>0</td>\n",
       "      <td>0</td>\n",
       "      <td>89</td>\n",
       "      <td>170</td>\n",
       "      <td>31</td>\n",
       "      <td>2</td>\n",
       "      <td>False</td>\n",
       "      <td>True</td>\n",
       "      <td>0</td>\n",
       "    </tr>\n",
       "    <tr>\n",
       "      <th>631</th>\n",
       "      <td>3</td>\n",
       "      <td>27</td>\n",
       "      <td>3</td>\n",
       "      <td>4</td>\n",
       "      <td>2</td>\n",
       "      <td>179</td>\n",
       "      <td>51</td>\n",
       "      <td>18</td>\n",
       "      <td>38</td>\n",
       "      <td>222196</td>\n",
       "      <td>...</td>\n",
       "      <td>1</td>\n",
       "      <td>0</td>\n",
       "      <td>0</td>\n",
       "      <td>89</td>\n",
       "      <td>170</td>\n",
       "      <td>31</td>\n",
       "      <td>2</td>\n",
       "      <td>False</td>\n",
       "      <td>True</td>\n",
       "      <td>0</td>\n",
       "    </tr>\n",
       "    <tr>\n",
       "      <th>632</th>\n",
       "      <td>3</td>\n",
       "      <td>27</td>\n",
       "      <td>3</td>\n",
       "      <td>5</td>\n",
       "      <td>2</td>\n",
       "      <td>179</td>\n",
       "      <td>51</td>\n",
       "      <td>18</td>\n",
       "      <td>38</td>\n",
       "      <td>222196</td>\n",
       "      <td>...</td>\n",
       "      <td>1</td>\n",
       "      <td>0</td>\n",
       "      <td>0</td>\n",
       "      <td>89</td>\n",
       "      <td>170</td>\n",
       "      <td>31</td>\n",
       "      <td>3</td>\n",
       "      <td>False</td>\n",
       "      <td>False</td>\n",
       "      <td>0</td>\n",
       "    </tr>\n",
       "    <tr>\n",
       "      <th>641</th>\n",
       "      <td>3</td>\n",
       "      <td>27</td>\n",
       "      <td>3</td>\n",
       "      <td>4</td>\n",
       "      <td>2</td>\n",
       "      <td>179</td>\n",
       "      <td>51</td>\n",
       "      <td>18</td>\n",
       "      <td>38</td>\n",
       "      <td>222196</td>\n",
       "      <td>...</td>\n",
       "      <td>1</td>\n",
       "      <td>0</td>\n",
       "      <td>0</td>\n",
       "      <td>89</td>\n",
       "      <td>170</td>\n",
       "      <td>31</td>\n",
       "      <td>2</td>\n",
       "      <td>False</td>\n",
       "      <td>True</td>\n",
       "      <td>0</td>\n",
       "    </tr>\n",
       "    <tr>\n",
       "      <th>643</th>\n",
       "      <td>3</td>\n",
       "      <td>27</td>\n",
       "      <td>3</td>\n",
       "      <td>5</td>\n",
       "      <td>2</td>\n",
       "      <td>179</td>\n",
       "      <td>51</td>\n",
       "      <td>18</td>\n",
       "      <td>38</td>\n",
       "      <td>222196</td>\n",
       "      <td>...</td>\n",
       "      <td>1</td>\n",
       "      <td>0</td>\n",
       "      <td>0</td>\n",
       "      <td>89</td>\n",
       "      <td>170</td>\n",
       "      <td>31</td>\n",
       "      <td>3</td>\n",
       "      <td>False</td>\n",
       "      <td>False</td>\n",
       "      <td>0</td>\n",
       "    </tr>\n",
       "    <tr>\n",
       "      <th>666</th>\n",
       "      <td>22</td>\n",
       "      <td>27</td>\n",
       "      <td>4</td>\n",
       "      <td>6</td>\n",
       "      <td>3</td>\n",
       "      <td>179</td>\n",
       "      <td>26</td>\n",
       "      <td>9</td>\n",
       "      <td>30</td>\n",
       "      <td>246288</td>\n",
       "      <td>...</td>\n",
       "      <td>0</td>\n",
       "      <td>0</td>\n",
       "      <td>0</td>\n",
       "      <td>56</td>\n",
       "      <td>171</td>\n",
       "      <td>19</td>\n",
       "      <td>2</td>\n",
       "      <td>False</td>\n",
       "      <td>True</td>\n",
       "      <td>0</td>\n",
       "    </tr>\n",
       "    <tr>\n",
       "      <th>669</th>\n",
       "      <td>22</td>\n",
       "      <td>27</td>\n",
       "      <td>4</td>\n",
       "      <td>6</td>\n",
       "      <td>3</td>\n",
       "      <td>179</td>\n",
       "      <td>26</td>\n",
       "      <td>9</td>\n",
       "      <td>30</td>\n",
       "      <td>246288</td>\n",
       "      <td>...</td>\n",
       "      <td>0</td>\n",
       "      <td>0</td>\n",
       "      <td>0</td>\n",
       "      <td>56</td>\n",
       "      <td>171</td>\n",
       "      <td>19</td>\n",
       "      <td>2</td>\n",
       "      <td>False</td>\n",
       "      <td>True</td>\n",
       "      <td>0</td>\n",
       "    </tr>\n",
       "    <tr>\n",
       "      <th>673</th>\n",
       "      <td>22</td>\n",
       "      <td>27</td>\n",
       "      <td>4</td>\n",
       "      <td>6</td>\n",
       "      <td>3</td>\n",
       "      <td>179</td>\n",
       "      <td>26</td>\n",
       "      <td>9</td>\n",
       "      <td>30</td>\n",
       "      <td>246288</td>\n",
       "      <td>...</td>\n",
       "      <td>0</td>\n",
       "      <td>0</td>\n",
       "      <td>0</td>\n",
       "      <td>56</td>\n",
       "      <td>171</td>\n",
       "      <td>19</td>\n",
       "      <td>2</td>\n",
       "      <td>False</td>\n",
       "      <td>True</td>\n",
       "      <td>0</td>\n",
       "    </tr>\n",
       "    <tr>\n",
       "      <th>699</th>\n",
       "      <td>15</td>\n",
       "      <td>28</td>\n",
       "      <td>5</td>\n",
       "      <td>5</td>\n",
       "      <td>3</td>\n",
       "      <td>291</td>\n",
       "      <td>31</td>\n",
       "      <td>12</td>\n",
       "      <td>40</td>\n",
       "      <td>237656</td>\n",
       "      <td>...</td>\n",
       "      <td>1</td>\n",
       "      <td>0</td>\n",
       "      <td>1</td>\n",
       "      <td>73</td>\n",
       "      <td>171</td>\n",
       "      <td>25</td>\n",
       "      <td>2</td>\n",
       "      <td>False</td>\n",
       "      <td>True</td>\n",
       "      <td>0</td>\n",
       "    </tr>\n",
       "    <tr>\n",
       "      <th>700</th>\n",
       "      <td>22</td>\n",
       "      <td>27</td>\n",
       "      <td>5</td>\n",
       "      <td>6</td>\n",
       "      <td>3</td>\n",
       "      <td>179</td>\n",
       "      <td>26</td>\n",
       "      <td>9</td>\n",
       "      <td>30</td>\n",
       "      <td>237656</td>\n",
       "      <td>...</td>\n",
       "      <td>0</td>\n",
       "      <td>0</td>\n",
       "      <td>0</td>\n",
       "      <td>56</td>\n",
       "      <td>171</td>\n",
       "      <td>19</td>\n",
       "      <td>2</td>\n",
       "      <td>False</td>\n",
       "      <td>True</td>\n",
       "      <td>0</td>\n",
       "    </tr>\n",
       "  </tbody>\n",
       "</table>\n",
       "<p>34 rows × 24 columns</p>\n",
       "</div>"
      ],
      "text/plain": [
       "     ID  Reason for absence  Month of absence  Day of the week  Seasons  \\\n",
       "16    3                  23                 7                6        1   \n",
       "68   34                  23                10                3        4   \n",
       "88   28                  23                11                4        4   \n",
       "109  10                  22                12                4        4   \n",
       "127  34                  27                 1                2        2   \n",
       "128  34                  27                 1                3        2   \n",
       "131  34                  27                 1                4        2   \n",
       "132  27                  23                 1                5        2   \n",
       "133  34                  27                 1                5        2   \n",
       "305   5                  23                10                2        4   \n",
       "351   3                  28                12                6        4   \n",
       "376   3                  27                 2                4        2   \n",
       "385   3                  27                 2                4        2   \n",
       "386   3                  27                 2                6        2   \n",
       "388   3                  27                 2                4        2   \n",
       "389   3                  27                 2                6        2   \n",
       "440  22                  23                 5                4        3   \n",
       "477  24                  28                 7                3        1   \n",
       "496  24                  28                 9                3        1   \n",
       "560  28                  23                12                4        4   \n",
       "605   3                  27                 2                4        2   \n",
       "607   3                  27                 2                6        2   \n",
       "610   3                  27                 2                2        2   \n",
       "615   3                  27                 2                4        2   \n",
       "616   3                  27                 2                5        2   \n",
       "631   3                  27                 3                4        2   \n",
       "632   3                  27                 3                5        2   \n",
       "641   3                  27                 3                4        2   \n",
       "643   3                  27                 3                5        2   \n",
       "666  22                  27                 4                6        3   \n",
       "669  22                  27                 4                6        3   \n",
       "673  22                  27                 4                6        3   \n",
       "699  15                  28                 5                5        3   \n",
       "700  22                  27                 5                6        3   \n",
       "\n",
       "     Transportation expense  Distance from Residence to Work  Service time  \\\n",
       "16                      179                               51            18   \n",
       "68                      118                               10            10   \n",
       "88                      225                               26             9   \n",
       "109                     361                               52             3   \n",
       "127                     118                               10            10   \n",
       "128                     118                               10            10   \n",
       "131                     118                               10            10   \n",
       "132                     184                               42             7   \n",
       "133                     118                               10            10   \n",
       "305                     235                               20            13   \n",
       "351                     179                               51            18   \n",
       "376                     179                               51            18   \n",
       "385                     179                               51            18   \n",
       "386                     179                               51            18   \n",
       "388                     179                               51            18   \n",
       "389                     179                               51            18   \n",
       "440                     179                               26             9   \n",
       "477                     246                               25            16   \n",
       "496                     246                               25            16   \n",
       "560                     225                               26             9   \n",
       "605                     179                               51            18   \n",
       "607                     179                               51            18   \n",
       "610                     179                               51            18   \n",
       "615                     179                               51            18   \n",
       "616                     179                               51            18   \n",
       "631                     179                               51            18   \n",
       "632                     179                               51            18   \n",
       "641                     179                               51            18   \n",
       "643                     179                               51            18   \n",
       "666                     179                               26             9   \n",
       "669                     179                               26             9   \n",
       "673                     179                               26             9   \n",
       "699                     291                               31            12   \n",
       "700                     179                               26             9   \n",
       "\n",
       "     Age  Work load Average/day   ...  Social drinker  Social smoker  Pet  \\\n",
       "16    38                  239554  ...               1              0    0   \n",
       "68    37                  253465  ...               0              0    0   \n",
       "88    28                  306345  ...               0              0    2   \n",
       "109   28                  261306  ...               1              0    4   \n",
       "127   37                  308593  ...               0              0    0   \n",
       "128   37                  308593  ...               0              0    0   \n",
       "131   37                  308593  ...               0              0    0   \n",
       "132   27                  308593  ...               0              0    0   \n",
       "133   37                  308593  ...               0              0    0   \n",
       "305   43                  265017  ...               1              0    0   \n",
       "351   38                  236629  ...               1              0    0   \n",
       "376   38                  251818  ...               1              0    0   \n",
       "385   38                  251818  ...               1              0    0   \n",
       "386   38                  251818  ...               1              0    0   \n",
       "388   38                  251818  ...               1              0    0   \n",
       "389   38                  251818  ...               1              0    0   \n",
       "440   30                  246074  ...               0              0    0   \n",
       "477   41                  230290  ...               1              0    0   \n",
       "496   41                  261756  ...               1              0    0   \n",
       "560   28                  280549  ...               0              0    2   \n",
       "605   38                  264249  ...               1              0    0   \n",
       "607   38                  264249  ...               1              0    0   \n",
       "610   38                  264249  ...               1              0    0   \n",
       "615   38                  264249  ...               1              0    0   \n",
       "616   38                  264249  ...               1              0    0   \n",
       "631   38                  222196  ...               1              0    0   \n",
       "632   38                  222196  ...               1              0    0   \n",
       "641   38                  222196  ...               1              0    0   \n",
       "643   38                  222196  ...               1              0    0   \n",
       "666   30                  246288  ...               0              0    0   \n",
       "669   30                  246288  ...               0              0    0   \n",
       "673   30                  246288  ...               0              0    0   \n",
       "699   40                  237656  ...               1              0    1   \n",
       "700   30                  237656  ...               0              0    0   \n",
       "\n",
       "     Weight  Height  Body mass index  Absenteeism time in hours   mask  \\\n",
       "16       89     170               31                          2  False   \n",
       "68       83     172               28                          3  False   \n",
       "88       69     169               24                          1  False   \n",
       "109      80     172               27                          8   True   \n",
       "127      83     172               28                          2  False   \n",
       "128      83     172               28                          2  False   \n",
       "131      83     172               28                          2  False   \n",
       "132      58     167               21                          2  False   \n",
       "133      83     172               28                          2  False   \n",
       "305     106     167               38                          2  False   \n",
       "351      89     170               31                          1  False   \n",
       "376      89     170               31                          3  False   \n",
       "385      89     170               31                          3  False   \n",
       "386      89     170               31                          3  False   \n",
       "388      89     170               31                          3  False   \n",
       "389      89     170               31                          3  False   \n",
       "440      56     171               19                          3  False   \n",
       "477      67     170               23                          2  False   \n",
       "496      67     170               23                          1  False   \n",
       "560      69     169               24                          3  False   \n",
       "605      89     170               31                          2  False   \n",
       "607      89     170               31                          2  False   \n",
       "610      89     170               31                          2  False   \n",
       "615      89     170               31                          2  False   \n",
       "616      89     170               31                          2  False   \n",
       "631      89     170               31                          2  False   \n",
       "632      89     170               31                          3  False   \n",
       "641      89     170               31                          2  False   \n",
       "643      89     170               31                          3  False   \n",
       "666      56     171               19                          2  False   \n",
       "669      56     171               19                          2  False   \n",
       "673      56     171               19                          2  False   \n",
       "699      73     171               25                          2  False   \n",
       "700      56     171               19                          2  False   \n",
       "\n",
       "     mask_lower  Absent  \n",
       "16         True       0  \n",
       "68        False       0  \n",
       "88         True       0  \n",
       "109       False       1  \n",
       "127        True       0  \n",
       "128        True       0  \n",
       "131        True       0  \n",
       "132        True       0  \n",
       "133        True       0  \n",
       "305        True       0  \n",
       "351        True       0  \n",
       "376       False       0  \n",
       "385       False       0  \n",
       "386       False       0  \n",
       "388       False       0  \n",
       "389       False       0  \n",
       "440       False       0  \n",
       "477        True       0  \n",
       "496        True       0  \n",
       "560       False       0  \n",
       "605        True       0  \n",
       "607        True       0  \n",
       "610        True       0  \n",
       "615        True       0  \n",
       "616        True       0  \n",
       "631        True       0  \n",
       "632       False       0  \n",
       "641        True       0  \n",
       "643       False       0  \n",
       "666        True       0  \n",
       "669        True       0  \n",
       "673        True       0  \n",
       "699        True       0  \n",
       "700        True       0  \n",
       "\n",
       "[34 rows x 24 columns]"
      ]
     },
     "execution_count": 164,
     "metadata": {},
     "output_type": "execute_result"
    }
   ],
   "source": [
    "#check for duplicated rows\n",
    "df.duplicated()"
   ]
  },
  {
   "cell_type": "code",
   "execution_count": 17,
   "id": "f4f66e54",
   "metadata": {},
   "outputs": [
    {
     "data": {
      "text/plain": [
       "8      208\n",
       "2      157\n",
       "3      112\n",
       "1       88\n",
       "4       60\n",
       "0       44\n",
       "16      19\n",
       "24      16\n",
       "5        7\n",
       "40       7\n",
       "32       6\n",
       "64       3\n",
       "80       3\n",
       "120      3\n",
       "56       2\n",
       "112      2\n",
       "7        1\n",
       "104      1\n",
       "48       1\n",
       "Name: Absenteeism time in hours, dtype: int64"
      ]
     },
     "execution_count": 17,
     "metadata": {},
     "output_type": "execute_result"
    }
   ],
   "source": [
    " #observe the target column\n",
    "df['Absenteeism time in hours'].value_counts()"
   ]
  },
  {
   "cell_type": "code",
   "execution_count": 165,
   "id": "e7d23b71",
   "metadata": {},
   "outputs": [
    {
     "data": {
      "image/png": "[encoded data removed]",
      "text/plain": [
       "<Figure size 640x480 with 1 Axes>"
      ]
     },
     "metadata": {},
     "output_type": "display_data"
    }
   ],
   "source": [
    "# observe the distribution of the target column\n",
    "df['Absenteeism time in hours'].plot(kind='hist'); "
   ]
  },
  {
   "cell_type": "code",
   "execution_count": 19,
   "id": "fbe21224",
   "metadata": {},
   "outputs": [
    {
     "data": {
      "text/plain": [
       "count    740.000000\n",
       "mean       6.924324\n",
       "std       13.330998\n",
       "min        0.000000\n",
       "25%        2.000000\n",
       "50%        3.000000\n",
       "75%        8.000000\n",
       "max      120.000000\n",
       "Name: Absenteeism time in hours, dtype: float64"
      ]
     },
     "execution_count": 19,
     "metadata": {},
     "output_type": "execute_result"
    }
   ],
   "source": [
    "#view the spread of the target column\n",
    "df['Absenteeism time in hours'].describe()"
   ]
  },
  {
   "cell_type": "code",
   "execution_count": 158,
   "id": "4667ee07",
   "metadata": {},
   "outputs": [],
   "source": [
    "#creates a new column in the DataFrame df called 'mask' which contains boolean values that indicate if the target column is more than 3\n",
    "df['mask']=df['Absenteeism time in hours']>3"
   ]
  },
  {
   "cell_type": "code",
   "execution_count": 155,
   "id": "d01b0f25",
   "metadata": {},
   "outputs": [
    {
     "data": {
      "text/plain": [
       "'339 rows were absent more than three hours '"
      ]
     },
     "execution_count": 155,
     "metadata": {},
     "output_type": "execute_result"
    }
   ],
   "source": [
    "#take total number of observations with over 3 hours of absence\n",
    "num_rows_true = (df['Absenteeism time in hours'] > 3).sum()\n",
    "f'{num_rows_true} participants were absent more than three hours '"
   ]
  },
  {
   "cell_type": "code",
   "execution_count": 157,
   "id": "e8754203",
   "metadata": {},
   "outputs": [
    {
     "data": {
      "text/plain": [
       "'289 members were absent for less than three hours'"
      ]
     },
     "execution_count": 157,
     "metadata": {},
     "output_type": "execute_result"
    }
   ],
   "source": [
    "#count the number of rows with less than 3 hour absence in the dataset\n",
    "num_rows_true = (df['Absenteeism time in hours'] < 3).sum()\n",
    "f'{num_rows_true} members were absent for less than three hours'"
   ]
  },
  {
   "cell_type": "code",
   "execution_count": 160,
   "id": "5c0dbebb",
   "metadata": {},
   "outputs": [],
   "source": [
    "#change to interger values - 1 for true, 0 for false\n",
    "df['Absent']=df['mask'].astype(int) "
   ]
  },
  {
   "cell_type": "code",
   "execution_count": 161,
   "id": "e43316ff",
   "metadata": {},
   "outputs": [
    {
     "data": {
      "text/plain": [
       "0    1\n",
       "1    0\n",
       "2    0\n",
       "3    1\n",
       "4    0\n",
       "Name: Absent, dtype: int32"
      ]
     },
     "execution_count": 161,
     "metadata": {},
     "output_type": "execute_result"
    }
   ],
   "source": [
    " #check\n",
    "df['Absent'].head()"
   ]
  },
  {
   "cell_type": "code",
   "execution_count": 23,
   "id": "9d855e28",
   "metadata": {},
   "outputs": [
    {
     "data": {
      "text/plain": [
       "(339, 23)"
      ]
     },
     "execution_count": 23,
     "metadata": {},
     "output_type": "execute_result"
    }
   ],
   "source": [
    "#create a mask subsetting the observations where Absent for over 3 hours = True \n",
    "mask = df['Absent']==1 \n",
    "\n",
    "df_Absentees = df[mask]\n",
    "\n",
    "df_Absentees.shape"
   ]
  },
  {
   "cell_type": "code",
   "execution_count": 24,
   "id": "fb38856b",
   "metadata": {},
   "outputs": [
    {
     "data": {
      "text/plain": [
       "0      1\n",
       "1      0\n",
       "2      0\n",
       "3      1\n",
       "4      0\n",
       "      ..\n",
       "735    1\n",
       "736    1\n",
       "737    0\n",
       "738    0\n",
       "739    0\n",
       "Name: Absent, Length: 740, dtype: int32"
      ]
     },
     "execution_count": 24,
     "metadata": {},
     "output_type": "execute_result"
    }
   ],
   "source": [
    "#checking the column\n",
    "df['Absent']"
   ]
  },
  {
   "cell_type": "code",
   "execution_count": 25,
   "id": "c8994507",
   "metadata": {},
   "outputs": [
    {
     "data": {
      "image/png": "[encoded data removed]",
      "text/plain": [
       "<Figure size 640x480 with 1 Axes>"
      ]
     },
     "metadata": {},
     "output_type": "display_data"
    }
   ],
   "source": [
    "#explore the reason for absence column\n",
    "df_Absentees['Reason for absence'].value_counts(normalize = True).plot(kind='bar', title= 'Reason for absence column', ylabel='normalized frequency'); "
   ]
  },
  {
   "cell_type": "code",
   "execution_count": 166,
   "id": "1df76146",
   "metadata": {},
   "outputs": [
    {
     "data": {
      "text/plain": [
       "36"
      ]
     },
     "execution_count": 166,
     "metadata": {},
     "output_type": "execute_result"
    }
   ],
   "source": [
    " #Explore the ID column\n",
    "df['ID'].nunique()"
   ]
  },
  {
   "cell_type": "code",
   "execution_count": 27,
   "id": "2c7f4794",
   "metadata": {},
   "outputs": [],
   "source": [
    "\n",
    "#collapse the column to reduce dimensionality and help with explainability\n",
    " df['Medical Reasons']=(df['Reason for absence']>1).astype(int)"
   ]
  },
  {
   "cell_type": "code",
   "execution_count": 28,
   "id": "d8fd3582",
   "metadata": {
    "scrolled": true
   },
   "outputs": [
    {
     "data": {
      "text/html": [
       "<div>\n",
       "<style scoped>\n",
       "    .dataframe tbody tr th:only-of-type {\n",
       "        vertical-align: middle;\n",
       "    }\n",
       "\n",
       "    .dataframe tbody tr th {\n",
       "        vertical-align: top;\n",
       "    }\n",
       "\n",
       "    .dataframe thead th {\n",
       "        text-align: right;\n",
       "    }\n",
       "</style>\n",
       "<table border=\"1\" class=\"dataframe\">\n",
       "  <thead>\n",
       "    <tr style=\"text-align: right;\">\n",
       "      <th></th>\n",
       "      <th>ID</th>\n",
       "      <th>Reason for absence</th>\n",
       "      <th>Month of absence</th>\n",
       "      <th>Day of the week</th>\n",
       "      <th>Seasons</th>\n",
       "      <th>Transportation expense</th>\n",
       "      <th>Distance from Residence to Work</th>\n",
       "      <th>Service time</th>\n",
       "      <th>Age</th>\n",
       "      <th>Work load Average/day</th>\n",
       "      <th>...</th>\n",
       "      <th>Social drinker</th>\n",
       "      <th>Social smoker</th>\n",
       "      <th>Pet</th>\n",
       "      <th>Weight</th>\n",
       "      <th>Height</th>\n",
       "      <th>Body mass index</th>\n",
       "      <th>Absenteeism time in hours</th>\n",
       "      <th>mask</th>\n",
       "      <th>Absent</th>\n",
       "      <th>Medical Reasons</th>\n",
       "    </tr>\n",
       "  </thead>\n",
       "  <tbody>\n",
       "    <tr>\n",
       "      <th>0</th>\n",
       "      <td>11</td>\n",
       "      <td>26</td>\n",
       "      <td>7</td>\n",
       "      <td>3</td>\n",
       "      <td>1</td>\n",
       "      <td>289</td>\n",
       "      <td>36</td>\n",
       "      <td>13</td>\n",
       "      <td>33</td>\n",
       "      <td>239554</td>\n",
       "      <td>...</td>\n",
       "      <td>1</td>\n",
       "      <td>0</td>\n",
       "      <td>1</td>\n",
       "      <td>90</td>\n",
       "      <td>172</td>\n",
       "      <td>30</td>\n",
       "      <td>4</td>\n",
       "      <td>True</td>\n",
       "      <td>1</td>\n",
       "      <td>1</td>\n",
       "    </tr>\n",
       "    <tr>\n",
       "      <th>1</th>\n",
       "      <td>36</td>\n",
       "      <td>0</td>\n",
       "      <td>7</td>\n",
       "      <td>3</td>\n",
       "      <td>1</td>\n",
       "      <td>118</td>\n",
       "      <td>13</td>\n",
       "      <td>18</td>\n",
       "      <td>50</td>\n",
       "      <td>239554</td>\n",
       "      <td>...</td>\n",
       "      <td>1</td>\n",
       "      <td>0</td>\n",
       "      <td>0</td>\n",
       "      <td>98</td>\n",
       "      <td>178</td>\n",
       "      <td>31</td>\n",
       "      <td>0</td>\n",
       "      <td>False</td>\n",
       "      <td>0</td>\n",
       "      <td>0</td>\n",
       "    </tr>\n",
       "    <tr>\n",
       "      <th>2</th>\n",
       "      <td>3</td>\n",
       "      <td>23</td>\n",
       "      <td>7</td>\n",
       "      <td>4</td>\n",
       "      <td>1</td>\n",
       "      <td>179</td>\n",
       "      <td>51</td>\n",
       "      <td>18</td>\n",
       "      <td>38</td>\n",
       "      <td>239554</td>\n",
       "      <td>...</td>\n",
       "      <td>1</td>\n",
       "      <td>0</td>\n",
       "      <td>0</td>\n",
       "      <td>89</td>\n",
       "      <td>170</td>\n",
       "      <td>31</td>\n",
       "      <td>2</td>\n",
       "      <td>False</td>\n",
       "      <td>0</td>\n",
       "      <td>1</td>\n",
       "    </tr>\n",
       "    <tr>\n",
       "      <th>3</th>\n",
       "      <td>7</td>\n",
       "      <td>7</td>\n",
       "      <td>7</td>\n",
       "      <td>5</td>\n",
       "      <td>1</td>\n",
       "      <td>279</td>\n",
       "      <td>5</td>\n",
       "      <td>14</td>\n",
       "      <td>39</td>\n",
       "      <td>239554</td>\n",
       "      <td>...</td>\n",
       "      <td>1</td>\n",
       "      <td>1</td>\n",
       "      <td>0</td>\n",
       "      <td>68</td>\n",
       "      <td>168</td>\n",
       "      <td>24</td>\n",
       "      <td>4</td>\n",
       "      <td>True</td>\n",
       "      <td>1</td>\n",
       "      <td>1</td>\n",
       "    </tr>\n",
       "    <tr>\n",
       "      <th>4</th>\n",
       "      <td>11</td>\n",
       "      <td>23</td>\n",
       "      <td>7</td>\n",
       "      <td>5</td>\n",
       "      <td>1</td>\n",
       "      <td>289</td>\n",
       "      <td>36</td>\n",
       "      <td>13</td>\n",
       "      <td>33</td>\n",
       "      <td>239554</td>\n",
       "      <td>...</td>\n",
       "      <td>1</td>\n",
       "      <td>0</td>\n",
       "      <td>1</td>\n",
       "      <td>90</td>\n",
       "      <td>172</td>\n",
       "      <td>30</td>\n",
       "      <td>2</td>\n",
       "      <td>False</td>\n",
       "      <td>0</td>\n",
       "      <td>1</td>\n",
       "    </tr>\n",
       "  </tbody>\n",
       "</table>\n",
       "<p>5 rows × 24 columns</p>\n",
       "</div>"
      ],
      "text/plain": [
       "   ID  Reason for absence  Month of absence  Day of the week  Seasons  \\\n",
       "0  11                  26                 7                3        1   \n",
       "1  36                   0                 7                3        1   \n",
       "2   3                  23                 7                4        1   \n",
       "3   7                   7                 7                5        1   \n",
       "4  11                  23                 7                5        1   \n",
       "\n",
       "   Transportation expense  Distance from Residence to Work  Service time  Age  \\\n",
       "0                     289                               36            13   33   \n",
       "1                     118                               13            18   50   \n",
       "2                     179                               51            18   38   \n",
       "3                     279                                5            14   39   \n",
       "4                     289                               36            13   33   \n",
       "\n",
       "   Work load Average/day   ...  Social drinker  Social smoker  Pet  Weight  \\\n",
       "0                  239554  ...               1              0    1      90   \n",
       "1                  239554  ...               1              0    0      98   \n",
       "2                  239554  ...               1              0    0      89   \n",
       "3                  239554  ...               1              1    0      68   \n",
       "4                  239554  ...               1              0    1      90   \n",
       "\n",
       "   Height  Body mass index  Absenteeism time in hours   mask  Absent  \\\n",
       "0     172               30                          4   True       1   \n",
       "1     178               31                          0  False       0   \n",
       "2     170               31                          2  False       0   \n",
       "3     168               24                          4   True       1   \n",
       "4     172               30                          2  False       0   \n",
       "\n",
       "   Medical Reasons  \n",
       "0                1  \n",
       "1                0  \n",
       "2                1  \n",
       "3                1  \n",
       "4                1  \n",
       "\n",
       "[5 rows x 24 columns]"
      ]
     },
     "execution_count": 28,
     "metadata": {},
     "output_type": "execute_result"
    }
   ],
   "source": [
    "df.head()"
   ]
  },
  {
   "cell_type": "code",
   "execution_count": 29,
   "id": "b8a41f8c",
   "metadata": {},
   "outputs": [
    {
     "data": {
      "image/png": "[encoded data removed]",
      "text/plain": [
       "<Figure size 640x480 with 1 Axes>"
      ]
     },
     "metadata": {},
     "output_type": "display_data"
    }
   ],
   "source": [
    "#observe the medical reasons column\n",
    "df['Medical Reasons'].value_counts().plot(kind='bar', title='Absent for medical reasons', xlabel='1 = Absent, 0=not absent', ylabel = 'frequency');"
   ]
  },
  {
   "cell_type": "code",
   "execution_count": 30,
   "id": "4736cf86",
   "metadata": {},
   "outputs": [
    {
     "data": {
      "image/png": "[encoded data removed]",
      "text/plain": [
       "<Figure size 640x480 with 1 Axes>"
      ]
     },
     "metadata": {},
     "output_type": "display_data"
    }
   ],
   "source": [
    " #Explore month of absence column\n",
    "df['Month of absence'].replace({1:'Jan', 2:'Feb', 3:'Mar', 4:'Apr', 5:'May', 6:'Jun', 7:'Jul', 8:'Aug', 9:'Sep', 10:'Oct', 11:'Nov', 12:'Dec', 0:'None'}).value_counts(normalize=True).plot(kind='bar');"
   ]
  },
  {
   "cell_type": "code",
   "execution_count": null,
   "id": "39937c62",
   "metadata": {},
   "outputs": [],
   "source": []
  },
  {
   "cell_type": "code",
   "execution_count": 31,
   "id": "d4aa03b4",
   "metadata": {},
   "outputs": [
    {
     "data": {
      "image/png": "[encoded data removed]",
      "text/plain": [
       "<Figure size 640x480 with 1 Axes>"
      ]
     },
     "metadata": {},
     "output_type": "display_data"
    }
   ],
   "source": [
    "#observe the distribution of absence by month\n",
    "df_Absentees['Month of absence'].replace({1:'Jan', 2:'Feb', 3:'Mar', 4:'Apr', 5:'May', 6:'Jun', 7:'Jul', 8:'Aug', 9:'Sep', 10:'Oct', 11:'Nov', 12:'Dec', 0:'None'}).value_counts().plot(kind='bar');"
   ]
  },
  {
   "cell_type": "code",
   "execution_count": 32,
   "id": "8b66271f",
   "metadata": {},
   "outputs": [
    {
     "data": {
      "image/png": "[encoded data removed]",
      "text/plain": [
       "<Figure size 640x480 with 1 Axes>"
      ]
     },
     "metadata": {},
     "output_type": "display_data"
    }
   ],
   "source": [
    "#Explore the most likely days of absence\n",
    "df['Day of the week'].replace({2:'Monday', 3:'Tuesday', 4:'Wednesday', 5:'Thursday', 6:'Friday'}).value_counts(normalize=True).plot(kind='bar', title = 'Normalized Frequency of Absence by day', xlabel = 'days', ylabel = '%'); "
   ]
  },
  {
   "cell_type": "code",
   "execution_count": 33,
   "id": "e5af0c8e",
   "metadata": {},
   "outputs": [
    {
     "data": {
      "image/png": "[encoded data removed]",
      "text/plain": [
       "<Figure size 640x480 with 1 Axes>"
      ]
     },
     "metadata": {},
     "output_type": "display_data"
    }
   ],
   "source": [
    "#explore the absence column by days of the week\n",
    "df_Absentees['Day of the week'].replace({2:'Monday', 3:'Tuesday', 4:'Wednesday', 5:'Thursday', 6:'Friday'}).value_counts(normalize=True).plot(kind='bar', title = 'Normalized Frequency of Absence by day', xlabel = 'days', ylabel = 'normalized frequency');"
   ]
  },
  {
   "cell_type": "code",
   "execution_count": 34,
   "id": "5e6b51cf",
   "metadata": {},
   "outputs": [
    {
     "data": {
      "image/png": "[encoded data removed]",
      "text/plain": [
       "<Figure size 640x480 with 1 Axes>"
      ]
     },
     "metadata": {},
     "output_type": "display_data"
    }
   ],
   "source": [
    " #Explore seasons column\n",
    "df_Absentees['Seasons'].replace({1:'Summer', 2: 'Autumn', 3:'Winter', 4:'Spring'}).value_counts().plot(kind='bar', title = 'Frequency of absence by season', xlabel='season', ylabel='Frequency');"
   ]
  },
  {
   "cell_type": "code",
   "execution_count": 35,
   "id": "6df9d2e6",
   "metadata": {},
   "outputs": [
    {
     "data": {
      "image/png": "[encoded data removed]",
      "text/plain": [
       "<Figure size 640x480 with 1 Axes>"
      ]
     },
     "metadata": {},
     "output_type": "display_data"
    }
   ],
   "source": [
    "#explore the distance feom residence to work column\n",
    "df['Distance from Residence to Work'].plot(kind='hist', title='Histogram plot of Distance distribution', xlabel='Distance from work', ylabel='Number of people');"
   ]
  },
  {
   "cell_type": "code",
   "execution_count": 36,
   "id": "20f9b3b2",
   "metadata": {},
   "outputs": [
    {
     "data": {
      "image/png": "[encoded data removed]",
      "text/plain": [
       "<Figure size 640x480 with 1 Axes>"
      ]
     },
     "metadata": {},
     "output_type": "display_data"
    }
   ],
   "source": [
    "#explore the relationship between distance to work and absence\n",
    "df_Absentees['Distance from Residence to Work'].plot(kind='hist', title='Histogram plot of Distance distribution of absentees', xlabel='Distance from work', ylabel='Number of people');"
   ]
  },
  {
   "cell_type": "code",
   "execution_count": 38,
   "id": "0f00a62d",
   "metadata": {},
   "outputs": [
    {
     "data": {
      "text/plain": [
       "<Axes: xlabel='Distance from Residence to Work', ylabel='Count'>"
      ]
     },
     "execution_count": 38,
     "metadata": {},
     "output_type": "execute_result"
    },
    {
     "data": {
      "image/png": "[encoded data removed]",
      "text/plain": [
       "<Figure size 640x480 with 1 Axes>"
      ]
     },
     "metadata": {},
     "output_type": "display_data"
    }
   ],
   "source": [
    "#exploring the distance to work column by the absence column\n",
    "sns.histplot(x='Distance from Residence to Work', hue='Absent', data=df)"
   ]
  },
  {
   "cell_type": "code",
   "execution_count": 39,
   "id": "cb0daad5",
   "metadata": {},
   "outputs": [
    {
     "data": {
      "image/png": "[encoded data removed]",
      "text/plain": [
       "<Figure size 640x480 with 1 Axes>"
      ]
     },
     "metadata": {},
     "output_type": "display_data"
    }
   ],
   "source": [
    "#explore the hit target column\n",
    "df['Hit target'].plot(kind='hist');"
   ]
  },
  {
   "cell_type": "code",
   "execution_count": 40,
   "id": "2719880b",
   "metadata": {},
   "outputs": [
    {
     "data": {
      "image/png": "[encoded data removed]",
      "text/plain": [
       "<Figure size 640x480 with 1 Axes>"
      ]
     },
     "metadata": {},
     "output_type": "display_data"
    }
   ],
   "source": [
    "#observing the hit target column of the absentees\n",
    "df_Absentees['Hit target'].plot(kind='hist');"
   ]
  },
  {
   "cell_type": "raw",
   "id": "8ac33e07",
   "metadata": {},
   "source": []
  },
  {
   "cell_type": "code",
   "execution_count": 41,
   "id": "521964a2",
   "metadata": {},
   "outputs": [
    {
     "data": {
      "image/png": "[encoded data removed]",
      "text/plain": [
       "<Figure size 640x480 with 1 Axes>"
      ]
     },
     "metadata": {},
     "output_type": "display_data"
    }
   ],
   "source": [
    "#obseving the distribution of the service time of the absentees\n",
    "df_Absentees['Service time'].plot(kind='hist', xlabel='Service time in years');"
   ]
  },
  {
   "cell_type": "code",
   "execution_count": 42,
   "id": "105f7c13",
   "metadata": {},
   "outputs": [
    {
     "data": {
      "image/png": "[encoded data removed]",
      "text/plain": [
       "<Figure size 640x480 with 1 Axes>"
      ]
     },
     "metadata": {},
     "output_type": "display_data"
    }
   ],
   "source": [
    "#observing the discipliinary failure column for the absentees\n",
    "df_Absentees['Disciplinary failure'].value_counts().plot(kind='bar');"
   ]
  },
  {
   "cell_type": "code",
   "execution_count": 43,
   "id": "f3b2dda4",
   "metadata": {},
   "outputs": [
    {
     "data": {
      "image/png": "[encoded data removed]",
      "text/plain": [
       "<Figure size 640x480 with 1 Axes>"
      ]
     },
     "metadata": {},
     "output_type": "display_data"
    }
   ],
   "source": [
    "#observation of the education distribution of the participants\n",
    "df['Education'].replace({1:'high school', 2:'College', 3:'Graduate', 4:'MSc and PhD'}).value_counts(normalize=True).plot(kind='bar', title='Education Level of participants'); #Observing the education column"
   ]
  },
  {
   "cell_type": "code",
   "execution_count": 44,
   "id": "e6ad8755",
   "metadata": {},
   "outputs": [
    {
     "data": {
      "image/png": "[encoded data removed]",
      "text/plain": [
       "<Figure size 640x480 with 1 Axes>"
      ]
     },
     "metadata": {},
     "output_type": "display_data"
    }
   ],
   "source": [
    "#Looking at the distribution of the number of children amongst the absentees\n",
    "df_Absentees['Son'].value_counts(normalize=True).plot(kind='bar', xlabel='number of kids', ylabel='normalized frequency of employees', title='Number of kids of Employees');"
   ]
  },
  {
   "cell_type": "code",
   "execution_count": 45,
   "id": "e8dec3d3",
   "metadata": {},
   "outputs": [
    {
     "data": {
      "image/png": "[encoded data removed]",
      "text/plain": [
       "<Figure size 640x480 with 1 Axes>"
      ]
     },
     "metadata": {},
     "output_type": "display_data"
    }
   ],
   "source": [
    "#looking at the social drinker colum within the dataset\n",
    "df['Social drinker'].replace({1:'True', 0:'False'}).value_counts().plot(kind='bar', title='Social Drinker');"
   ]
  },
  {
   "cell_type": "code",
   "execution_count": 46,
   "id": "2343f806",
   "metadata": {},
   "outputs": [
    {
     "data": {
      "image/png": "[encoded data removed]",
      "text/plain": [
       "<Figure size 640x480 with 1 Axes>"
      ]
     },
     "metadata": {},
     "output_type": "display_data"
    }
   ],
   "source": [
    "#looking at the social smoker xolumn among the absentees\n",
    "df_Absentees['Social smoker'].replace({1:'Social smokers', 0:'Non smokers'}).value_counts().plot(kind='bar', title = 'Social Smoker');"
   ]
  },
  {
   "cell_type": "code",
   "execution_count": null,
   "id": "50347834",
   "metadata": {},
   "outputs": [],
   "source": []
  },
  {
   "cell_type": "code",
   "execution_count": 47,
   "id": "1ce5079c",
   "metadata": {},
   "outputs": [
    {
     "data": {
      "image/png": "[encoded data removed]",
      "text/plain": [
       "<Figure size 640x480 with 1 Axes>"
      ]
     },
     "metadata": {},
     "output_type": "display_data"
    }
   ],
   "source": [
    "#observe the distribution of the number of pets among the dataset participants\n",
    "df['Pet'].value_counts().plot(kind='bar', title='Number of pets owned');"
   ]
  },
  {
   "cell_type": "code",
   "execution_count": 48,
   "id": "eb30ebcd",
   "metadata": {},
   "outputs": [
    {
     "data": {
      "text/plain": [
       "<Axes: >"
      ]
     },
     "execution_count": 48,
     "metadata": {},
     "output_type": "execute_result"
    },
    {
     "data": {
      "image/png": "[encoded data removed]",
      "text/plain": [
       "<Figure size 640x480 with 1 Axes>"
      ]
     },
     "metadata": {},
     "output_type": "display_data"
    }
   ],
   "source": [
    "#observe the number of pets owned by absentees\n",
    "df_Absentees['Pet'].value_counts().plot(kind='bar')"
   ]
  },
  {
   "cell_type": "code",
   "execution_count": 49,
   "id": "ab122168",
   "metadata": {},
   "outputs": [
    {
     "data": {
      "text/plain": [
       "<Axes: ylabel='Frequency'>"
      ]
     },
     "execution_count": 49,
     "metadata": {},
     "output_type": "execute_result"
    },
    {
     "data": {
      "image/png": "[encoded data removed]",
      "text/plain": [
       "<Figure size 640x480 with 1 Axes>"
      ]
     },
     "metadata": {},
     "output_type": "display_data"
    }
   ],
   "source": [
    "#looking at the weight distribution of the participants of the dataset\n",
    "df['Weight'].plot(kind='hist')"
   ]
  },
  {
   "cell_type": "code",
   "execution_count": 167,
   "id": "33e2b5cf",
   "metadata": {},
   "outputs": [
    {
     "data": {
      "image/png": "[encoded data removed]",
      "text/plain": [
       "<Figure size 640x480 with 1 Axes>"
      ]
     },
     "metadata": {},
     "output_type": "display_data"
    }
   ],
   "source": [
    "#looking at the height distribution of the members of the dataset\n",
    "df['Height'].plot(kind='hist');"
   ]
  },
  {
   "cell_type": "code",
   "execution_count": 52,
   "id": "5e4763bb",
   "metadata": {},
   "outputs": [
    {
     "data": {
      "text/plain": [
       "<Axes: ylabel='Frequency'>"
      ]
     },
     "execution_count": 52,
     "metadata": {},
     "output_type": "execute_result"
    },
    {
     "data": {
      "image/png": "[encoded data removed]",
      "text/plain": [
       "<Figure size 640x480 with 1 Axes>"
      ]
     },
     "metadata": {},
     "output_type": "display_data"
    }
   ],
   "source": [
    "#observe the distribution of the height within the absentees\n",
    "df_Absentees['Height'].plot(kind='hist')"
   ]
  },
  {
   "cell_type": "code",
   "execution_count": 53,
   "id": "429410b1",
   "metadata": {},
   "outputs": [
    {
     "data": {
      "text/plain": [
       "count    740.000000\n",
       "mean      26.677027\n",
       "std        4.285452\n",
       "min       19.000000\n",
       "25%       24.000000\n",
       "50%       25.000000\n",
       "75%       31.000000\n",
       "max       38.000000\n",
       "Name: Body mass index, dtype: float64"
      ]
     },
     "execution_count": 53,
     "metadata": {},
     "output_type": "execute_result"
    }
   ],
   "source": [
    "#observe the bmi distribution among the participants\n",
    "df['Body mass index'].describe()"
   ]
  },
  {
   "cell_type": "code",
   "execution_count": 54,
   "id": "b24f8bc0",
   "metadata": {},
   "outputs": [
    {
     "data": {
      "image/png": "[encoded data removed]",
      "text/plain": [
       "<Figure size 640x480 with 1 Axes>"
      ]
     },
     "metadata": {},
     "output_type": "display_data"
    }
   ],
   "source": [
    "#observe the bmi distribution among the participants\n",
    "df['Body mass index'].plot(kind='hist', title='BMI normalized frequency histogram distribution');"
   ]
  },
  {
   "cell_type": "code",
   "execution_count": 55,
   "id": "5d5d42a2",
   "metadata": {},
   "outputs": [
    {
     "data": {
      "text/plain": [
       "count    339.000000\n",
       "mean      26.560472\n",
       "std        4.082547\n",
       "min       19.000000\n",
       "25%       23.000000\n",
       "50%       25.000000\n",
       "75%       30.000000\n",
       "max       38.000000\n",
       "Name: Body mass index, dtype: float64"
      ]
     },
     "execution_count": 55,
     "metadata": {},
     "output_type": "execute_result"
    }
   ],
   "source": [
    "#obseve the bmi of the absentees\n",
    "df_Absentees['Body mass index'].describe()"
   ]
  },
  {
   "cell_type": "code",
   "execution_count": 56,
   "id": "1e1ac56a",
   "metadata": {},
   "outputs": [
    {
     "data": {
      "image/png": "[encoded data removed]",
      "text/plain": [
       "<Figure size 640x480 with 1 Axes>"
      ]
     },
     "metadata": {},
     "output_type": "display_data"
    }
   ],
   "source": [
    "#plot the bmi distribution of the absentees\n",
    "df_Absentees['Body mass index'].plot(kind='hist', title='BMI normalized frequency histogram distribution');"
   ]
  },
  {
   "cell_type": "code",
   "execution_count": 57,
   "id": "974025b0",
   "metadata": {},
   "outputs": [
    {
     "data": {
      "text/plain": [
       "count    740.000000\n",
       "mean       6.924324\n",
       "std       13.330998\n",
       "min        0.000000\n",
       "25%        2.000000\n",
       "50%        3.000000\n",
       "75%        8.000000\n",
       "max      120.000000\n",
       "Name: Absenteeism time in hours, dtype: float64"
      ]
     },
     "execution_count": 57,
     "metadata": {},
     "output_type": "execute_result"
    }
   ],
   "source": [
    "#view the spread of the target column\n",
    "df['Absenteeism time in hours'].describe() "
   ]
  },
  {
   "cell_type": "code",
   "execution_count": null,
   "id": "8fff2567",
   "metadata": {},
   "outputs": [],
   "source": []
  },
  {
   "cell_type": "code",
   "execution_count": null,
   "id": "ce9527d5",
   "metadata": {},
   "outputs": [],
   "source": []
  },
  {
   "cell_type": "code",
   "execution_count": null,
   "id": "c9d884c4",
   "metadata": {},
   "outputs": [],
   "source": []
  },
  {
   "cell_type": "code",
   "execution_count": 58,
   "id": "569cd10d",
   "metadata": {},
   "outputs": [
    {
     "data": {
      "text/plain": [
       "0    0.541892\n",
       "1    0.458108\n",
       "Name: Absent, dtype: float64"
      ]
     },
     "execution_count": 58,
     "metadata": {},
     "output_type": "execute_result"
    }
   ],
   "source": [
    "#check the class balance of the target column\n",
    "df['Absent'].value_counts(normalize=True)"
   ]
  },
  {
   "cell_type": "code",
   "execution_count": null,
   "id": "acda79c6",
   "metadata": {},
   "outputs": [],
   "source": []
  },
  {
   "cell_type": "code",
   "execution_count": 59,
   "id": "2b46bdb8",
   "metadata": {},
   "outputs": [
    {
     "data": {
      "image/png": "[encoded data removed]",
      "text/plain": [
       "<Figure size 640x480 with 1 Axes>"
      ]
     },
     "metadata": {},
     "output_type": "display_data"
    }
   ],
   "source": [
    " #visualize to check for imbalance \n",
    "df['mask'].value_counts(normalize = True).plot(kind='bar', title = 'Normalized visual plot of the class balance');"
   ]
  },
  {
   "cell_type": "code",
   "execution_count": 60,
   "id": "da79d0c5",
   "metadata": {},
   "outputs": [
    {
     "data": {
      "text/html": [
       "<div>\n",
       "<style scoped>\n",
       "    .dataframe tbody tr th:only-of-type {\n",
       "        vertical-align: middle;\n",
       "    }\n",
       "\n",
       "    .dataframe tbody tr th {\n",
       "        vertical-align: top;\n",
       "    }\n",
       "\n",
       "    .dataframe thead th {\n",
       "        text-align: right;\n",
       "    }\n",
       "</style>\n",
       "<table border=\"1\" class=\"dataframe\">\n",
       "  <thead>\n",
       "    <tr style=\"text-align: right;\">\n",
       "      <th></th>\n",
       "      <th>ID</th>\n",
       "      <th>Reason for absence</th>\n",
       "      <th>Month of absence</th>\n",
       "      <th>Day of the week</th>\n",
       "      <th>Seasons</th>\n",
       "      <th>Transportation expense</th>\n",
       "      <th>Distance from Residence to Work</th>\n",
       "      <th>Service time</th>\n",
       "      <th>Age</th>\n",
       "      <th>Work load Average/day</th>\n",
       "      <th>...</th>\n",
       "      <th>Social drinker</th>\n",
       "      <th>Social smoker</th>\n",
       "      <th>Pet</th>\n",
       "      <th>Weight</th>\n",
       "      <th>Height</th>\n",
       "      <th>Body mass index</th>\n",
       "      <th>Absenteeism time in hours</th>\n",
       "      <th>mask</th>\n",
       "      <th>Absent</th>\n",
       "      <th>Medical Reasons</th>\n",
       "    </tr>\n",
       "  </thead>\n",
       "  <tbody>\n",
       "    <tr>\n",
       "      <th>0</th>\n",
       "      <td>11</td>\n",
       "      <td>26</td>\n",
       "      <td>7</td>\n",
       "      <td>3</td>\n",
       "      <td>1</td>\n",
       "      <td>289</td>\n",
       "      <td>36</td>\n",
       "      <td>13</td>\n",
       "      <td>33</td>\n",
       "      <td>239554</td>\n",
       "      <td>...</td>\n",
       "      <td>1</td>\n",
       "      <td>0</td>\n",
       "      <td>1</td>\n",
       "      <td>90</td>\n",
       "      <td>172</td>\n",
       "      <td>30</td>\n",
       "      <td>4</td>\n",
       "      <td>True</td>\n",
       "      <td>1</td>\n",
       "      <td>1</td>\n",
       "    </tr>\n",
       "    <tr>\n",
       "      <th>1</th>\n",
       "      <td>36</td>\n",
       "      <td>0</td>\n",
       "      <td>7</td>\n",
       "      <td>3</td>\n",
       "      <td>1</td>\n",
       "      <td>118</td>\n",
       "      <td>13</td>\n",
       "      <td>18</td>\n",
       "      <td>50</td>\n",
       "      <td>239554</td>\n",
       "      <td>...</td>\n",
       "      <td>1</td>\n",
       "      <td>0</td>\n",
       "      <td>0</td>\n",
       "      <td>98</td>\n",
       "      <td>178</td>\n",
       "      <td>31</td>\n",
       "      <td>0</td>\n",
       "      <td>False</td>\n",
       "      <td>0</td>\n",
       "      <td>0</td>\n",
       "    </tr>\n",
       "    <tr>\n",
       "      <th>2</th>\n",
       "      <td>3</td>\n",
       "      <td>23</td>\n",
       "      <td>7</td>\n",
       "      <td>4</td>\n",
       "      <td>1</td>\n",
       "      <td>179</td>\n",
       "      <td>51</td>\n",
       "      <td>18</td>\n",
       "      <td>38</td>\n",
       "      <td>239554</td>\n",
       "      <td>...</td>\n",
       "      <td>1</td>\n",
       "      <td>0</td>\n",
       "      <td>0</td>\n",
       "      <td>89</td>\n",
       "      <td>170</td>\n",
       "      <td>31</td>\n",
       "      <td>2</td>\n",
       "      <td>False</td>\n",
       "      <td>0</td>\n",
       "      <td>1</td>\n",
       "    </tr>\n",
       "    <tr>\n",
       "      <th>3</th>\n",
       "      <td>7</td>\n",
       "      <td>7</td>\n",
       "      <td>7</td>\n",
       "      <td>5</td>\n",
       "      <td>1</td>\n",
       "      <td>279</td>\n",
       "      <td>5</td>\n",
       "      <td>14</td>\n",
       "      <td>39</td>\n",
       "      <td>239554</td>\n",
       "      <td>...</td>\n",
       "      <td>1</td>\n",
       "      <td>1</td>\n",
       "      <td>0</td>\n",
       "      <td>68</td>\n",
       "      <td>168</td>\n",
       "      <td>24</td>\n",
       "      <td>4</td>\n",
       "      <td>True</td>\n",
       "      <td>1</td>\n",
       "      <td>1</td>\n",
       "    </tr>\n",
       "    <tr>\n",
       "      <th>4</th>\n",
       "      <td>11</td>\n",
       "      <td>23</td>\n",
       "      <td>7</td>\n",
       "      <td>5</td>\n",
       "      <td>1</td>\n",
       "      <td>289</td>\n",
       "      <td>36</td>\n",
       "      <td>13</td>\n",
       "      <td>33</td>\n",
       "      <td>239554</td>\n",
       "      <td>...</td>\n",
       "      <td>1</td>\n",
       "      <td>0</td>\n",
       "      <td>1</td>\n",
       "      <td>90</td>\n",
       "      <td>172</td>\n",
       "      <td>30</td>\n",
       "      <td>2</td>\n",
       "      <td>False</td>\n",
       "      <td>0</td>\n",
       "      <td>1</td>\n",
       "    </tr>\n",
       "  </tbody>\n",
       "</table>\n",
       "<p>5 rows × 24 columns</p>\n",
       "</div>"
      ],
      "text/plain": [
       "   ID  Reason for absence  Month of absence  Day of the week  Seasons  \\\n",
       "0  11                  26                 7                3        1   \n",
       "1  36                   0                 7                3        1   \n",
       "2   3                  23                 7                4        1   \n",
       "3   7                   7                 7                5        1   \n",
       "4  11                  23                 7                5        1   \n",
       "\n",
       "   Transportation expense  Distance from Residence to Work  Service time  Age  \\\n",
       "0                     289                               36            13   33   \n",
       "1                     118                               13            18   50   \n",
       "2                     179                               51            18   38   \n",
       "3                     279                                5            14   39   \n",
       "4                     289                               36            13   33   \n",
       "\n",
       "   Work load Average/day   ...  Social drinker  Social smoker  Pet  Weight  \\\n",
       "0                  239554  ...               1              0    1      90   \n",
       "1                  239554  ...               1              0    0      98   \n",
       "2                  239554  ...               1              0    0      89   \n",
       "3                  239554  ...               1              1    0      68   \n",
       "4                  239554  ...               1              0    1      90   \n",
       "\n",
       "   Height  Body mass index  Absenteeism time in hours   mask  Absent  \\\n",
       "0     172               30                          4   True       1   \n",
       "1     178               31                          0  False       0   \n",
       "2     170               31                          2  False       0   \n",
       "3     168               24                          4   True       1   \n",
       "4     172               30                          2  False       0   \n",
       "\n",
       "   Medical Reasons  \n",
       "0                1  \n",
       "1                0  \n",
       "2                1  \n",
       "3                1  \n",
       "4                1  \n",
       "\n",
       "[5 rows x 24 columns]"
      ]
     },
     "execution_count": 60,
     "metadata": {},
     "output_type": "execute_result"
    }
   ],
   "source": [
    "df.head()"
   ]
  },
  {
   "cell_type": "code",
   "execution_count": 168,
   "id": "5667eb4f",
   "metadata": {},
   "outputs": [
    {
     "data": {
      "text/html": [
       "<div>\n",
       "<style scoped>\n",
       "    .dataframe tbody tr th:only-of-type {\n",
       "        vertical-align: middle;\n",
       "    }\n",
       "\n",
       "    .dataframe tbody tr th {\n",
       "        vertical-align: top;\n",
       "    }\n",
       "\n",
       "    .dataframe thead th {\n",
       "        text-align: right;\n",
       "    }\n",
       "</style>\n",
       "<table border=\"1\" class=\"dataframe\">\n",
       "  <thead>\n",
       "    <tr style=\"text-align: right;\">\n",
       "      <th></th>\n",
       "      <th>ID</th>\n",
       "      <th>Reason for absence</th>\n",
       "      <th>Month of absence</th>\n",
       "      <th>Day of the week</th>\n",
       "      <th>Seasons</th>\n",
       "      <th>Transportation expense</th>\n",
       "      <th>Distance from Residence to Work</th>\n",
       "      <th>Service time</th>\n",
       "      <th>Age</th>\n",
       "      <th>Work load Average/day</th>\n",
       "      <th>...</th>\n",
       "      <th>Social drinker</th>\n",
       "      <th>Social smoker</th>\n",
       "      <th>Pet</th>\n",
       "      <th>Weight</th>\n",
       "      <th>Height</th>\n",
       "      <th>Body mass index</th>\n",
       "      <th>Absenteeism time in hours</th>\n",
       "      <th>mask</th>\n",
       "      <th>mask_lower</th>\n",
       "      <th>Absent</th>\n",
       "    </tr>\n",
       "  </thead>\n",
       "  <tbody>\n",
       "    <tr>\n",
       "      <th>ID</th>\n",
       "      <td>1.000000</td>\n",
       "      <td>-0.064245</td>\n",
       "      <td>-0.000043</td>\n",
       "      <td>0.034468</td>\n",
       "      <td>0.098495</td>\n",
       "      <td>-0.224163</td>\n",
       "      <td>-0.486160</td>\n",
       "      <td>-0.272704</td>\n",
       "      <td>0.040899</td>\n",
       "      <td>0.092457</td>\n",
       "      <td>...</td>\n",
       "      <td>-0.451338</td>\n",
       "      <td>-0.010826</td>\n",
       "      <td>-0.041418</td>\n",
       "      <td>-0.254222</td>\n",
       "      <td>0.076363</td>\n",
       "      <td>-0.306924</td>\n",
       "      <td>-0.017997</td>\n",
       "      <td>-0.151930</td>\n",
       "      <td>0.133523</td>\n",
       "      <td>-0.151930</td>\n",
       "    </tr>\n",
       "    <tr>\n",
       "      <th>Reason for absence</th>\n",
       "      <td>-0.064245</td>\n",
       "      <td>1.000000</td>\n",
       "      <td>-0.083858</td>\n",
       "      <td>0.116319</td>\n",
       "      <td>-0.117925</td>\n",
       "      <td>-0.119381</td>\n",
       "      <td>0.161831</td>\n",
       "      <td>0.048425</td>\n",
       "      <td>-0.078608</td>\n",
       "      <td>-0.123472</td>\n",
       "      <td>...</td>\n",
       "      <td>0.065441</td>\n",
       "      <td>-0.115702</td>\n",
       "      <td>-0.055911</td>\n",
       "      <td>-0.000269</td>\n",
       "      <td>-0.079267</td>\n",
       "      <td>0.037205</td>\n",
       "      <td>-0.173116</td>\n",
       "      <td>-0.182570</td>\n",
       "      <td>0.080034</td>\n",
       "      <td>-0.182570</td>\n",
       "    </tr>\n",
       "    <tr>\n",
       "      <th>Month of absence</th>\n",
       "      <td>-0.000043</td>\n",
       "      <td>-0.083858</td>\n",
       "      <td>1.000000</td>\n",
       "      <td>-0.006528</td>\n",
       "      <td>0.407770</td>\n",
       "      <td>0.137525</td>\n",
       "      <td>-0.003887</td>\n",
       "      <td>-0.062862</td>\n",
       "      <td>-0.001520</td>\n",
       "      <td>-0.169989</td>\n",
       "      <td>...</td>\n",
       "      <td>0.056226</td>\n",
       "      <td>-0.038603</td>\n",
       "      <td>0.047787</td>\n",
       "      <td>0.023278</td>\n",
       "      <td>-0.068942</td>\n",
       "      <td>0.051046</td>\n",
       "      <td>0.024345</td>\n",
       "      <td>0.066388</td>\n",
       "      <td>-0.050599</td>\n",
       "      <td>0.066388</td>\n",
       "    </tr>\n",
       "    <tr>\n",
       "      <th>Day of the week</th>\n",
       "      <td>0.034468</td>\n",
       "      <td>0.116319</td>\n",
       "      <td>-0.006528</td>\n",
       "      <td>1.000000</td>\n",
       "      <td>0.046493</td>\n",
       "      <td>0.033988</td>\n",
       "      <td>0.118026</td>\n",
       "      <td>0.021252</td>\n",
       "      <td>0.004459</td>\n",
       "      <td>0.015646</td>\n",
       "      <td>...</td>\n",
       "      <td>0.041772</td>\n",
       "      <td>0.013156</td>\n",
       "      <td>-0.028885</td>\n",
       "      <td>-0.128980</td>\n",
       "      <td>-0.082133</td>\n",
       "      <td>-0.103578</td>\n",
       "      <td>-0.124361</td>\n",
       "      <td>-0.101446</td>\n",
       "      <td>0.038221</td>\n",
       "      <td>-0.101446</td>\n",
       "    </tr>\n",
       "    <tr>\n",
       "      <th>Seasons</th>\n",
       "      <td>0.098495</td>\n",
       "      <td>-0.117925</td>\n",
       "      <td>0.407770</td>\n",
       "      <td>0.046493</td>\n",
       "      <td>1.000000</td>\n",
       "      <td>0.036995</td>\n",
       "      <td>-0.063108</td>\n",
       "      <td>-0.010904</td>\n",
       "      <td>-0.012089</td>\n",
       "      <td>0.150439</td>\n",
       "      <td>...</td>\n",
       "      <td>-0.045982</td>\n",
       "      <td>-0.048671</td>\n",
       "      <td>0.012356</td>\n",
       "      <td>-0.026278</td>\n",
       "      <td>-0.033737</td>\n",
       "      <td>-0.011031</td>\n",
       "      <td>-0.005615</td>\n",
       "      <td>-0.086945</td>\n",
       "      <td>0.031442</td>\n",
       "      <td>-0.086945</td>\n",
       "    </tr>\n",
       "    <tr>\n",
       "      <th>Transportation expense</th>\n",
       "      <td>-0.224163</td>\n",
       "      <td>-0.119381</td>\n",
       "      <td>0.137525</td>\n",
       "      <td>0.033988</td>\n",
       "      <td>0.036995</td>\n",
       "      <td>1.000000</td>\n",
       "      <td>0.262183</td>\n",
       "      <td>-0.349887</td>\n",
       "      <td>-0.227542</td>\n",
       "      <td>0.005438</td>\n",
       "      <td>...</td>\n",
       "      <td>0.145117</td>\n",
       "      <td>0.044356</td>\n",
       "      <td>0.400080</td>\n",
       "      <td>-0.207435</td>\n",
       "      <td>-0.194496</td>\n",
       "      <td>-0.136517</td>\n",
       "      <td>0.027585</td>\n",
       "      <td>0.246761</td>\n",
       "      <td>-0.156004</td>\n",
       "      <td>0.246761</td>\n",
       "    </tr>\n",
       "    <tr>\n",
       "      <th>Distance from Residence to Work</th>\n",
       "      <td>-0.486160</td>\n",
       "      <td>0.161831</td>\n",
       "      <td>-0.003887</td>\n",
       "      <td>0.118026</td>\n",
       "      <td>-0.063108</td>\n",
       "      <td>0.262183</td>\n",
       "      <td>1.000000</td>\n",
       "      <td>0.131730</td>\n",
       "      <td>-0.145886</td>\n",
       "      <td>-0.068677</td>\n",
       "      <td>...</td>\n",
       "      <td>0.452196</td>\n",
       "      <td>-0.075369</td>\n",
       "      <td>0.205941</td>\n",
       "      <td>-0.047859</td>\n",
       "      <td>-0.353372</td>\n",
       "      <td>0.113772</td>\n",
       "      <td>-0.088363</td>\n",
       "      <td>0.009341</td>\n",
       "      <td>-0.078535</td>\n",
       "      <td>0.009341</td>\n",
       "    </tr>\n",
       "    <tr>\n",
       "      <th>Service time</th>\n",
       "      <td>-0.272704</td>\n",
       "      <td>0.048425</td>\n",
       "      <td>-0.062862</td>\n",
       "      <td>0.021252</td>\n",
       "      <td>-0.010904</td>\n",
       "      <td>-0.349887</td>\n",
       "      <td>0.131730</td>\n",
       "      <td>1.000000</td>\n",
       "      <td>0.670979</td>\n",
       "      <td>-0.000668</td>\n",
       "      <td>...</td>\n",
       "      <td>0.353141</td>\n",
       "      <td>0.072424</td>\n",
       "      <td>-0.440301</td>\n",
       "      <td>0.455975</td>\n",
       "      <td>-0.053135</td>\n",
       "      <td>0.499718</td>\n",
       "      <td>0.019029</td>\n",
       "      <td>-0.074167</td>\n",
       "      <td>0.043539</td>\n",
       "      <td>-0.074167</td>\n",
       "    </tr>\n",
       "    <tr>\n",
       "      <th>Age</th>\n",
       "      <td>0.040899</td>\n",
       "      <td>-0.078608</td>\n",
       "      <td>-0.001520</td>\n",
       "      <td>0.004459</td>\n",
       "      <td>-0.012089</td>\n",
       "      <td>-0.227542</td>\n",
       "      <td>-0.145886</td>\n",
       "      <td>0.670979</td>\n",
       "      <td>1.000000</td>\n",
       "      <td>-0.039425</td>\n",
       "      <td>...</td>\n",
       "      <td>0.213183</td>\n",
       "      <td>0.121738</td>\n",
       "      <td>-0.231226</td>\n",
       "      <td>0.418730</td>\n",
       "      <td>-0.062997</td>\n",
       "      <td>0.470688</td>\n",
       "      <td>0.065760</td>\n",
       "      <td>-0.037933</td>\n",
       "      <td>0.060302</td>\n",
       "      <td>-0.037933</td>\n",
       "    </tr>\n",
       "    <tr>\n",
       "      <th>Work load Average/day</th>\n",
       "      <td>0.092457</td>\n",
       "      <td>-0.123472</td>\n",
       "      <td>-0.169989</td>\n",
       "      <td>0.015646</td>\n",
       "      <td>0.150439</td>\n",
       "      <td>0.005438</td>\n",
       "      <td>-0.068677</td>\n",
       "      <td>-0.000668</td>\n",
       "      <td>-0.039425</td>\n",
       "      <td>1.000000</td>\n",
       "      <td>...</td>\n",
       "      <td>-0.033713</td>\n",
       "      <td>0.030968</td>\n",
       "      <td>0.007114</td>\n",
       "      <td>-0.038522</td>\n",
       "      <td>0.103315</td>\n",
       "      <td>-0.090709</td>\n",
       "      <td>0.024749</td>\n",
       "      <td>0.041579</td>\n",
       "      <td>0.013077</td>\n",
       "      <td>0.041579</td>\n",
       "    </tr>\n",
       "    <tr>\n",
       "      <th>Hit target</th>\n",
       "      <td>0.018789</td>\n",
       "      <td>0.088943</td>\n",
       "      <td>-0.460453</td>\n",
       "      <td>0.030986</td>\n",
       "      <td>-0.061154</td>\n",
       "      <td>-0.080193</td>\n",
       "      <td>-0.013865</td>\n",
       "      <td>-0.007840</td>\n",
       "      <td>-0.039224</td>\n",
       "      <td>-0.089445</td>\n",
       "      <td>...</td>\n",
       "      <td>-0.102480</td>\n",
       "      <td>0.051254</td>\n",
       "      <td>0.007201</td>\n",
       "      <td>-0.044947</td>\n",
       "      <td>0.093267</td>\n",
       "      <td>-0.088939</td>\n",
       "      <td>0.026695</td>\n",
       "      <td>-0.027488</td>\n",
       "      <td>-0.016784</td>\n",
       "      <td>-0.027488</td>\n",
       "    </tr>\n",
       "    <tr>\n",
       "      <th>Disciplinary failure</th>\n",
       "      <td>0.004502</td>\n",
       "      <td>-0.545054</td>\n",
       "      <td>0.107946</td>\n",
       "      <td>-0.015120</td>\n",
       "      <td>0.151766</td>\n",
       "      <td>0.109222</td>\n",
       "      <td>-0.056527</td>\n",
       "      <td>-0.000221</td>\n",
       "      <td>0.104304</td>\n",
       "      <td>0.029026</td>\n",
       "      <td>...</td>\n",
       "      <td>0.051838</td>\n",
       "      <td>0.116748</td>\n",
       "      <td>0.018881</td>\n",
       "      <td>0.072225</td>\n",
       "      <td>-0.010498</td>\n",
       "      <td>0.079428</td>\n",
       "      <td>-0.124248</td>\n",
       "      <td>-0.219790</td>\n",
       "      <td>0.298621</td>\n",
       "      <td>-0.219790</td>\n",
       "    </tr>\n",
       "    <tr>\n",
       "      <th>Education</th>\n",
       "      <td>-0.036254</td>\n",
       "      <td>-0.047357</td>\n",
       "      <td>-0.066128</td>\n",
       "      <td>0.058516</td>\n",
       "      <td>-0.002951</td>\n",
       "      <td>-0.055065</td>\n",
       "      <td>-0.259605</td>\n",
       "      <td>-0.213000</td>\n",
       "      <td>-0.221882</td>\n",
       "      <td>-0.074960</td>\n",
       "      <td>...</td>\n",
       "      <td>-0.420013</td>\n",
       "      <td>0.032727</td>\n",
       "      <td>-0.053554</td>\n",
       "      <td>-0.300574</td>\n",
       "      <td>0.100977</td>\n",
       "      <td>-0.366884</td>\n",
       "      <td>-0.046235</td>\n",
       "      <td>-0.028023</td>\n",
       "      <td>0.035585</td>\n",
       "      <td>-0.028023</td>\n",
       "    </tr>\n",
       "    <tr>\n",
       "      <th>Son</th>\n",
       "      <td>0.002767</td>\n",
       "      <td>-0.055364</td>\n",
       "      <td>0.079031</td>\n",
       "      <td>0.098079</td>\n",
       "      <td>0.046950</td>\n",
       "      <td>0.383001</td>\n",
       "      <td>0.054230</td>\n",
       "      <td>-0.047128</td>\n",
       "      <td>0.056984</td>\n",
       "      <td>0.027820</td>\n",
       "      <td>...</td>\n",
       "      <td>0.206376</td>\n",
       "      <td>0.156088</td>\n",
       "      <td>0.108917</td>\n",
       "      <td>-0.139552</td>\n",
       "      <td>-0.014208</td>\n",
       "      <td>-0.144150</td>\n",
       "      <td>0.113756</td>\n",
       "      <td>0.223815</td>\n",
       "      <td>-0.165191</td>\n",
       "      <td>0.223815</td>\n",
       "    </tr>\n",
       "    <tr>\n",
       "      <th>Social drinker</th>\n",
       "      <td>-0.451338</td>\n",
       "      <td>0.065441</td>\n",
       "      <td>0.056226</td>\n",
       "      <td>0.041772</td>\n",
       "      <td>-0.045982</td>\n",
       "      <td>0.145117</td>\n",
       "      <td>0.452196</td>\n",
       "      <td>0.353141</td>\n",
       "      <td>0.213183</td>\n",
       "      <td>-0.033713</td>\n",
       "      <td>...</td>\n",
       "      <td>1.000000</td>\n",
       "      <td>-0.111678</td>\n",
       "      <td>-0.122780</td>\n",
       "      <td>0.378664</td>\n",
       "      <td>0.169951</td>\n",
       "      <td>0.323978</td>\n",
       "      <td>0.065067</td>\n",
       "      <td>0.134648</td>\n",
       "      <td>-0.117564</td>\n",
       "      <td>0.134648</td>\n",
       "    </tr>\n",
       "    <tr>\n",
       "      <th>Social smoker</th>\n",
       "      <td>-0.010826</td>\n",
       "      <td>-0.115702</td>\n",
       "      <td>-0.038603</td>\n",
       "      <td>0.013156</td>\n",
       "      <td>-0.048671</td>\n",
       "      <td>0.044356</td>\n",
       "      <td>-0.075369</td>\n",
       "      <td>0.072424</td>\n",
       "      <td>0.121738</td>\n",
       "      <td>0.030968</td>\n",
       "      <td>...</td>\n",
       "      <td>-0.111678</td>\n",
       "      <td>1.000000</td>\n",
       "      <td>0.105379</td>\n",
       "      <td>-0.198511</td>\n",
       "      <td>0.003271</td>\n",
       "      <td>-0.196006</td>\n",
       "      <td>-0.008936</td>\n",
       "      <td>0.023590</td>\n",
       "      <td>0.009700</td>\n",
       "      <td>0.023590</td>\n",
       "    </tr>\n",
       "    <tr>\n",
       "      <th>Pet</th>\n",
       "      <td>-0.041418</td>\n",
       "      <td>-0.055911</td>\n",
       "      <td>0.047787</td>\n",
       "      <td>-0.028885</td>\n",
       "      <td>0.012356</td>\n",
       "      <td>0.400080</td>\n",
       "      <td>0.205941</td>\n",
       "      <td>-0.440301</td>\n",
       "      <td>-0.231226</td>\n",
       "      <td>0.007114</td>\n",
       "      <td>...</td>\n",
       "      <td>-0.122780</td>\n",
       "      <td>0.105379</td>\n",
       "      <td>1.000000</td>\n",
       "      <td>-0.103770</td>\n",
       "      <td>-0.103143</td>\n",
       "      <td>-0.076103</td>\n",
       "      <td>-0.028277</td>\n",
       "      <td>0.029080</td>\n",
       "      <td>-0.011729</td>\n",
       "      <td>0.029080</td>\n",
       "    </tr>\n",
       "    <tr>\n",
       "      <th>Weight</th>\n",
       "      <td>-0.254222</td>\n",
       "      <td>-0.000269</td>\n",
       "      <td>0.023278</td>\n",
       "      <td>-0.128980</td>\n",
       "      <td>-0.026278</td>\n",
       "      <td>-0.207435</td>\n",
       "      <td>-0.047859</td>\n",
       "      <td>0.455975</td>\n",
       "      <td>0.418730</td>\n",
       "      <td>-0.038522</td>\n",
       "      <td>...</td>\n",
       "      <td>0.378664</td>\n",
       "      <td>-0.198511</td>\n",
       "      <td>-0.103770</td>\n",
       "      <td>1.000000</td>\n",
       "      <td>0.306802</td>\n",
       "      <td>0.904117</td>\n",
       "      <td>0.015789</td>\n",
       "      <td>0.008867</td>\n",
       "      <td>-0.003906</td>\n",
       "      <td>0.008867</td>\n",
       "    </tr>\n",
       "    <tr>\n",
       "      <th>Height</th>\n",
       "      <td>0.076363</td>\n",
       "      <td>-0.079267</td>\n",
       "      <td>-0.068942</td>\n",
       "      <td>-0.082133</td>\n",
       "      <td>-0.033737</td>\n",
       "      <td>-0.194496</td>\n",
       "      <td>-0.353372</td>\n",
       "      <td>-0.053135</td>\n",
       "      <td>-0.062997</td>\n",
       "      <td>0.103315</td>\n",
       "      <td>...</td>\n",
       "      <td>0.169951</td>\n",
       "      <td>0.003271</td>\n",
       "      <td>-0.103143</td>\n",
       "      <td>0.306802</td>\n",
       "      <td>1.000000</td>\n",
       "      <td>-0.121049</td>\n",
       "      <td>0.144420</td>\n",
       "      <td>0.061639</td>\n",
       "      <td>-0.014328</td>\n",
       "      <td>0.061639</td>\n",
       "    </tr>\n",
       "    <tr>\n",
       "      <th>Body mass index</th>\n",
       "      <td>-0.306924</td>\n",
       "      <td>0.037205</td>\n",
       "      <td>0.051046</td>\n",
       "      <td>-0.103578</td>\n",
       "      <td>-0.011031</td>\n",
       "      <td>-0.136517</td>\n",
       "      <td>0.113772</td>\n",
       "      <td>0.499718</td>\n",
       "      <td>0.470688</td>\n",
       "      <td>-0.090709</td>\n",
       "      <td>...</td>\n",
       "      <td>0.323978</td>\n",
       "      <td>-0.196006</td>\n",
       "      <td>-0.076103</td>\n",
       "      <td>0.904117</td>\n",
       "      <td>-0.121049</td>\n",
       "      <td>1.000000</td>\n",
       "      <td>-0.049719</td>\n",
       "      <td>-0.025024</td>\n",
       "      <td>0.004747</td>\n",
       "      <td>-0.025024</td>\n",
       "    </tr>\n",
       "    <tr>\n",
       "      <th>Absenteeism time in hours</th>\n",
       "      <td>-0.017997</td>\n",
       "      <td>-0.173116</td>\n",
       "      <td>0.024345</td>\n",
       "      <td>-0.124361</td>\n",
       "      <td>-0.005615</td>\n",
       "      <td>0.027585</td>\n",
       "      <td>-0.088363</td>\n",
       "      <td>0.019029</td>\n",
       "      <td>0.065760</td>\n",
       "      <td>0.024749</td>\n",
       "      <td>...</td>\n",
       "      <td>0.065067</td>\n",
       "      <td>-0.008936</td>\n",
       "      <td>-0.028277</td>\n",
       "      <td>0.015789</td>\n",
       "      <td>0.144420</td>\n",
       "      <td>-0.049719</td>\n",
       "      <td>1.000000</td>\n",
       "      <td>0.415052</td>\n",
       "      <td>-0.332489</td>\n",
       "      <td>0.415052</td>\n",
       "    </tr>\n",
       "    <tr>\n",
       "      <th>mask</th>\n",
       "      <td>-0.151930</td>\n",
       "      <td>-0.182570</td>\n",
       "      <td>0.066388</td>\n",
       "      <td>-0.101446</td>\n",
       "      <td>-0.086945</td>\n",
       "      <td>0.246761</td>\n",
       "      <td>0.009341</td>\n",
       "      <td>-0.074167</td>\n",
       "      <td>-0.037933</td>\n",
       "      <td>0.041579</td>\n",
       "      <td>...</td>\n",
       "      <td>0.134648</td>\n",
       "      <td>0.023590</td>\n",
       "      <td>0.029080</td>\n",
       "      <td>0.008867</td>\n",
       "      <td>0.061639</td>\n",
       "      <td>-0.025024</td>\n",
       "      <td>0.415052</td>\n",
       "      <td>1.000000</td>\n",
       "      <td>-0.736018</td>\n",
       "      <td>1.000000</td>\n",
       "    </tr>\n",
       "    <tr>\n",
       "      <th>mask_lower</th>\n",
       "      <td>0.133523</td>\n",
       "      <td>0.080034</td>\n",
       "      <td>-0.050599</td>\n",
       "      <td>0.038221</td>\n",
       "      <td>0.031442</td>\n",
       "      <td>-0.156004</td>\n",
       "      <td>-0.078535</td>\n",
       "      <td>0.043539</td>\n",
       "      <td>0.060302</td>\n",
       "      <td>0.013077</td>\n",
       "      <td>...</td>\n",
       "      <td>-0.117564</td>\n",
       "      <td>0.009700</td>\n",
       "      <td>-0.011729</td>\n",
       "      <td>-0.003906</td>\n",
       "      <td>-0.014328</td>\n",
       "      <td>0.004747</td>\n",
       "      <td>-0.332489</td>\n",
       "      <td>-0.736018</td>\n",
       "      <td>1.000000</td>\n",
       "      <td>-0.736018</td>\n",
       "    </tr>\n",
       "    <tr>\n",
       "      <th>Absent</th>\n",
       "      <td>-0.151930</td>\n",
       "      <td>-0.182570</td>\n",
       "      <td>0.066388</td>\n",
       "      <td>-0.101446</td>\n",
       "      <td>-0.086945</td>\n",
       "      <td>0.246761</td>\n",
       "      <td>0.009341</td>\n",
       "      <td>-0.074167</td>\n",
       "      <td>-0.037933</td>\n",
       "      <td>0.041579</td>\n",
       "      <td>...</td>\n",
       "      <td>0.134648</td>\n",
       "      <td>0.023590</td>\n",
       "      <td>0.029080</td>\n",
       "      <td>0.008867</td>\n",
       "      <td>0.061639</td>\n",
       "      <td>-0.025024</td>\n",
       "      <td>0.415052</td>\n",
       "      <td>1.000000</td>\n",
       "      <td>-0.736018</td>\n",
       "      <td>1.000000</td>\n",
       "    </tr>\n",
       "  </tbody>\n",
       "</table>\n",
       "<p>24 rows × 24 columns</p>\n",
       "</div>"
      ],
      "text/plain": [
       "                                       ID  Reason for absence  \\\n",
       "ID                               1.000000           -0.064245   \n",
       "Reason for absence              -0.064245            1.000000   \n",
       "Month of absence                -0.000043           -0.083858   \n",
       "Day of the week                  0.034468            0.116319   \n",
       "Seasons                          0.098495           -0.117925   \n",
       "Transportation expense          -0.224163           -0.119381   \n",
       "Distance from Residence to Work -0.486160            0.161831   \n",
       "Service time                    -0.272704            0.048425   \n",
       "Age                              0.040899           -0.078608   \n",
       "Work load Average/day            0.092457           -0.123472   \n",
       "Hit target                       0.018789            0.088943   \n",
       "Disciplinary failure             0.004502           -0.545054   \n",
       "Education                       -0.036254           -0.047357   \n",
       "Son                              0.002767           -0.055364   \n",
       "Social drinker                  -0.451338            0.065441   \n",
       "Social smoker                   -0.010826           -0.115702   \n",
       "Pet                             -0.041418           -0.055911   \n",
       "Weight                          -0.254222           -0.000269   \n",
       "Height                           0.076363           -0.079267   \n",
       "Body mass index                 -0.306924            0.037205   \n",
       "Absenteeism time in hours       -0.017997           -0.173116   \n",
       "mask                            -0.151930           -0.182570   \n",
       "mask_lower                       0.133523            0.080034   \n",
       "Absent                          -0.151930           -0.182570   \n",
       "\n",
       "                                 Month of absence  Day of the week   Seasons  \\\n",
       "ID                                      -0.000043         0.034468  0.098495   \n",
       "Reason for absence                      -0.083858         0.116319 -0.117925   \n",
       "Month of absence                         1.000000        -0.006528  0.407770   \n",
       "Day of the week                         -0.006528         1.000000  0.046493   \n",
       "Seasons                                  0.407770         0.046493  1.000000   \n",
       "Transportation expense                   0.137525         0.033988  0.036995   \n",
       "Distance from Residence to Work         -0.003887         0.118026 -0.063108   \n",
       "Service time                            -0.062862         0.021252 -0.010904   \n",
       "Age                                     -0.001520         0.004459 -0.012089   \n",
       "Work load Average/day                   -0.169989         0.015646  0.150439   \n",
       "Hit target                              -0.460453         0.030986 -0.061154   \n",
       "Disciplinary failure                     0.107946        -0.015120  0.151766   \n",
       "Education                               -0.066128         0.058516 -0.002951   \n",
       "Son                                      0.079031         0.098079  0.046950   \n",
       "Social drinker                           0.056226         0.041772 -0.045982   \n",
       "Social smoker                           -0.038603         0.013156 -0.048671   \n",
       "Pet                                      0.047787        -0.028885  0.012356   \n",
       "Weight                                   0.023278        -0.128980 -0.026278   \n",
       "Height                                  -0.068942        -0.082133 -0.033737   \n",
       "Body mass index                          0.051046        -0.103578 -0.011031   \n",
       "Absenteeism time in hours                0.024345        -0.124361 -0.005615   \n",
       "mask                                     0.066388        -0.101446 -0.086945   \n",
       "mask_lower                              -0.050599         0.038221  0.031442   \n",
       "Absent                                   0.066388        -0.101446 -0.086945   \n",
       "\n",
       "                                 Transportation expense  \\\n",
       "ID                                            -0.224163   \n",
       "Reason for absence                            -0.119381   \n",
       "Month of absence                               0.137525   \n",
       "Day of the week                                0.033988   \n",
       "Seasons                                        0.036995   \n",
       "Transportation expense                         1.000000   \n",
       "Distance from Residence to Work                0.262183   \n",
       "Service time                                  -0.349887   \n",
       "Age                                           -0.227542   \n",
       "Work load Average/day                          0.005438   \n",
       "Hit target                                    -0.080193   \n",
       "Disciplinary failure                           0.109222   \n",
       "Education                                     -0.055065   \n",
       "Son                                            0.383001   \n",
       "Social drinker                                 0.145117   \n",
       "Social smoker                                  0.044356   \n",
       "Pet                                            0.400080   \n",
       "Weight                                        -0.207435   \n",
       "Height                                        -0.194496   \n",
       "Body mass index                               -0.136517   \n",
       "Absenteeism time in hours                      0.027585   \n",
       "mask                                           0.246761   \n",
       "mask_lower                                    -0.156004   \n",
       "Absent                                         0.246761   \n",
       "\n",
       "                                 Distance from Residence to Work  \\\n",
       "ID                                                     -0.486160   \n",
       "Reason for absence                                      0.161831   \n",
       "Month of absence                                       -0.003887   \n",
       "Day of the week                                         0.118026   \n",
       "Seasons                                                -0.063108   \n",
       "Transportation expense                                  0.262183   \n",
       "Distance from Residence to Work                         1.000000   \n",
       "Service time                                            0.131730   \n",
       "Age                                                    -0.145886   \n",
       "Work load Average/day                                  -0.068677   \n",
       "Hit target                                             -0.013865   \n",
       "Disciplinary failure                                   -0.056527   \n",
       "Education                                              -0.259605   \n",
       "Son                                                     0.054230   \n",
       "Social drinker                                          0.452196   \n",
       "Social smoker                                          -0.075369   \n",
       "Pet                                                     0.205941   \n",
       "Weight                                                 -0.047859   \n",
       "Height                                                 -0.353372   \n",
       "Body mass index                                         0.113772   \n",
       "Absenteeism time in hours                              -0.088363   \n",
       "mask                                                    0.009341   \n",
       "mask_lower                                             -0.078535   \n",
       "Absent                                                  0.009341   \n",
       "\n",
       "                                 Service time       Age  \\\n",
       "ID                                  -0.272704  0.040899   \n",
       "Reason for absence                   0.048425 -0.078608   \n",
       "Month of absence                    -0.062862 -0.001520   \n",
       "Day of the week                      0.021252  0.004459   \n",
       "Seasons                             -0.010904 -0.012089   \n",
       "Transportation expense              -0.349887 -0.227542   \n",
       "Distance from Residence to Work      0.131730 -0.145886   \n",
       "Service time                         1.000000  0.670979   \n",
       "Age                                  0.670979  1.000000   \n",
       "Work load Average/day               -0.000668 -0.039425   \n",
       "Hit target                          -0.007840 -0.039224   \n",
       "Disciplinary failure                -0.000221  0.104304   \n",
       "Education                           -0.213000 -0.221882   \n",
       "Son                                 -0.047128  0.056984   \n",
       "Social drinker                       0.353141  0.213183   \n",
       "Social smoker                        0.072424  0.121738   \n",
       "Pet                                 -0.440301 -0.231226   \n",
       "Weight                               0.455975  0.418730   \n",
       "Height                              -0.053135 -0.062997   \n",
       "Body mass index                      0.499718  0.470688   \n",
       "Absenteeism time in hours            0.019029  0.065760   \n",
       "mask                                -0.074167 -0.037933   \n",
       "mask_lower                           0.043539  0.060302   \n",
       "Absent                              -0.074167 -0.037933   \n",
       "\n",
       "                                 Work load Average/day   ...  Social drinker  \\\n",
       "ID                                             0.092457  ...       -0.451338   \n",
       "Reason for absence                            -0.123472  ...        0.065441   \n",
       "Month of absence                              -0.169989  ...        0.056226   \n",
       "Day of the week                                0.015646  ...        0.041772   \n",
       "Seasons                                        0.150439  ...       -0.045982   \n",
       "Transportation expense                         0.005438  ...        0.145117   \n",
       "Distance from Residence to Work               -0.068677  ...        0.452196   \n",
       "Service time                                  -0.000668  ...        0.353141   \n",
       "Age                                           -0.039425  ...        0.213183   \n",
       "Work load Average/day                          1.000000  ...       -0.033713   \n",
       "Hit target                                    -0.089445  ...       -0.102480   \n",
       "Disciplinary failure                           0.029026  ...        0.051838   \n",
       "Education                                     -0.074960  ...       -0.420013   \n",
       "Son                                            0.027820  ...        0.206376   \n",
       "Social drinker                                -0.033713  ...        1.000000   \n",
       "Social smoker                                  0.030968  ...       -0.111678   \n",
       "Pet                                            0.007114  ...       -0.122780   \n",
       "Weight                                        -0.038522  ...        0.378664   \n",
       "Height                                         0.103315  ...        0.169951   \n",
       "Body mass index                               -0.090709  ...        0.323978   \n",
       "Absenteeism time in hours                      0.024749  ...        0.065067   \n",
       "mask                                           0.041579  ...        0.134648   \n",
       "mask_lower                                     0.013077  ...       -0.117564   \n",
       "Absent                                         0.041579  ...        0.134648   \n",
       "\n",
       "                                 Social smoker       Pet    Weight    Height  \\\n",
       "ID                                   -0.010826 -0.041418 -0.254222  0.076363   \n",
       "Reason for absence                   -0.115702 -0.055911 -0.000269 -0.079267   \n",
       "Month of absence                     -0.038603  0.047787  0.023278 -0.068942   \n",
       "Day of the week                       0.013156 -0.028885 -0.128980 -0.082133   \n",
       "Seasons                              -0.048671  0.012356 -0.026278 -0.033737   \n",
       "Transportation expense                0.044356  0.400080 -0.207435 -0.194496   \n",
       "Distance from Residence to Work      -0.075369  0.205941 -0.047859 -0.353372   \n",
       "Service time                          0.072424 -0.440301  0.455975 -0.053135   \n",
       "Age                                   0.121738 -0.231226  0.418730 -0.062997   \n",
       "Work load Average/day                 0.030968  0.007114 -0.038522  0.103315   \n",
       "Hit target                            0.051254  0.007201 -0.044947  0.093267   \n",
       "Disciplinary failure                  0.116748  0.018881  0.072225 -0.010498   \n",
       "Education                             0.032727 -0.053554 -0.300574  0.100977   \n",
       "Son                                   0.156088  0.108917 -0.139552 -0.014208   \n",
       "Social drinker                       -0.111678 -0.122780  0.378664  0.169951   \n",
       "Social smoker                         1.000000  0.105379 -0.198511  0.003271   \n",
       "Pet                                   0.105379  1.000000 -0.103770 -0.103143   \n",
       "Weight                               -0.198511 -0.103770  1.000000  0.306802   \n",
       "Height                                0.003271 -0.103143  0.306802  1.000000   \n",
       "Body mass index                      -0.196006 -0.076103  0.904117 -0.121049   \n",
       "Absenteeism time in hours            -0.008936 -0.028277  0.015789  0.144420   \n",
       "mask                                  0.023590  0.029080  0.008867  0.061639   \n",
       "mask_lower                            0.009700 -0.011729 -0.003906 -0.014328   \n",
       "Absent                                0.023590  0.029080  0.008867  0.061639   \n",
       "\n",
       "                                 Body mass index  Absenteeism time in hours  \\\n",
       "ID                                     -0.306924                  -0.017997   \n",
       "Reason for absence                      0.037205                  -0.173116   \n",
       "Month of absence                        0.051046                   0.024345   \n",
       "Day of the week                        -0.103578                  -0.124361   \n",
       "Seasons                                -0.011031                  -0.005615   \n",
       "Transportation expense                 -0.136517                   0.027585   \n",
       "Distance from Residence to Work         0.113772                  -0.088363   \n",
       "Service time                            0.499718                   0.019029   \n",
       "Age                                     0.470688                   0.065760   \n",
       "Work load Average/day                  -0.090709                   0.024749   \n",
       "Hit target                             -0.088939                   0.026695   \n",
       "Disciplinary failure                    0.079428                  -0.124248   \n",
       "Education                              -0.366884                  -0.046235   \n",
       "Son                                    -0.144150                   0.113756   \n",
       "Social drinker                          0.323978                   0.065067   \n",
       "Social smoker                          -0.196006                  -0.008936   \n",
       "Pet                                    -0.076103                  -0.028277   \n",
       "Weight                                  0.904117                   0.015789   \n",
       "Height                                 -0.121049                   0.144420   \n",
       "Body mass index                         1.000000                  -0.049719   \n",
       "Absenteeism time in hours              -0.049719                   1.000000   \n",
       "mask                                   -0.025024                   0.415052   \n",
       "mask_lower                              0.004747                  -0.332489   \n",
       "Absent                                 -0.025024                   0.415052   \n",
       "\n",
       "                                     mask  mask_lower    Absent  \n",
       "ID                              -0.151930    0.133523 -0.151930  \n",
       "Reason for absence              -0.182570    0.080034 -0.182570  \n",
       "Month of absence                 0.066388   -0.050599  0.066388  \n",
       "Day of the week                 -0.101446    0.038221 -0.101446  \n",
       "Seasons                         -0.086945    0.031442 -0.086945  \n",
       "Transportation expense           0.246761   -0.156004  0.246761  \n",
       "Distance from Residence to Work  0.009341   -0.078535  0.009341  \n",
       "Service time                    -0.074167    0.043539 -0.074167  \n",
       "Age                             -0.037933    0.060302 -0.037933  \n",
       "Work load Average/day            0.041579    0.013077  0.041579  \n",
       "Hit target                      -0.027488   -0.016784 -0.027488  \n",
       "Disciplinary failure            -0.219790    0.298621 -0.219790  \n",
       "Education                       -0.028023    0.035585 -0.028023  \n",
       "Son                              0.223815   -0.165191  0.223815  \n",
       "Social drinker                   0.134648   -0.117564  0.134648  \n",
       "Social smoker                    0.023590    0.009700  0.023590  \n",
       "Pet                              0.029080   -0.011729  0.029080  \n",
       "Weight                           0.008867   -0.003906  0.008867  \n",
       "Height                           0.061639   -0.014328  0.061639  \n",
       "Body mass index                 -0.025024    0.004747 -0.025024  \n",
       "Absenteeism time in hours        0.415052   -0.332489  0.415052  \n",
       "mask                             1.000000   -0.736018  1.000000  \n",
       "mask_lower                      -0.736018    1.000000 -0.736018  \n",
       "Absent                           1.000000   -0.736018  1.000000  \n",
       "\n",
       "[24 rows x 24 columns]"
      ]
     },
     "execution_count": 168,
     "metadata": {},
     "output_type": "execute_result"
    }
   ],
   "source": [
    "#pearson correlation of the features\n",
    "df.corr()"
   ]
  },
  {
   "cell_type": "code",
   "execution_count": 169,
   "id": "ddcf83ed",
   "metadata": {},
   "outputs": [
    {
     "data": {
      "image/png": "[encoded data removed]",
      "text/plain": [
       "<Figure size 640x480 with 2 Axes>"
      ]
     },
     "metadata": {},
     "output_type": "display_data"
    }
   ],
   "source": [
    "#correlation plot of the features with seaborn\n",
    "sns.heatmap(df.corr());"
   ]
  },
  {
   "cell_type": "code",
   "execution_count": 63,
   "id": "b3343931",
   "metadata": {},
   "outputs": [
    {
     "data": {
      "text/plain": [
       "0.6709789169180517"
      ]
     },
     "execution_count": 63,
     "metadata": {},
     "output_type": "execute_result"
    }
   ],
   "source": [
    "df['Age'].corr(df['Service time']) #Age shows a high correlation with Service time"
   ]
  },
  {
   "cell_type": "code",
   "execution_count": null,
   "id": "3f2bc27a",
   "metadata": {},
   "outputs": [],
   "source": []
  },
  {
   "cell_type": "code",
   "execution_count": null,
   "id": "9b44a938",
   "metadata": {},
   "outputs": [],
   "source": []
  },
  {
   "cell_type": "code",
   "execution_count": 64,
   "id": "cc87d759",
   "metadata": {},
   "outputs": [
    {
     "data": {
      "text/plain": [
       "0.9041169005730304"
      ]
     },
     "execution_count": 64,
     "metadata": {},
     "output_type": "execute_result"
    }
   ],
   "source": [
    "df['Weight'].corr(df['Body mass index']) #Weight shows high correlation with BMI"
   ]
  },
  {
   "cell_type": "code",
   "execution_count": 65,
   "id": "6ea0a6ce",
   "metadata": {},
   "outputs": [
    {
     "data": {
      "text/plain": [
       "0.019029261406040186"
      ]
     },
     "execution_count": 65,
     "metadata": {},
     "output_type": "execute_result"
    }
   ],
   "source": [
    "df['Service time'].corr(df['Absenteeism time in hours'])"
   ]
  },
  {
   "cell_type": "code",
   "execution_count": null,
   "id": "7e881362",
   "metadata": {},
   "outputs": [],
   "source": []
  },
  {
   "cell_type": "code",
   "execution_count": 66,
   "id": "330294f2",
   "metadata": {},
   "outputs": [],
   "source": [
    "from sklearn.model_selection import train_test_split\n",
    "\n",
    "from sklearn.datasets import make_classification\n",
    "\n",
    "f\n",
    "\n",
    "\n",
    "\n"
   ]
  },
  {
   "cell_type": "code",
   "execution_count": null,
   "id": "53991984",
   "metadata": {},
   "outputs": [],
   "source": []
  },
  {
   "cell_type": "code",
   "execution_count": null,
   "id": "9c553f2c",
   "metadata": {},
   "outputs": [],
   "source": []
  },
  {
   "cell_type": "code",
   "execution_count": 67,
   "id": "1d26b891",
   "metadata": {},
   "outputs": [
    {
     "data": {
      "text/plain": [
       "Index(['ID', 'Reason for absence', 'Month of absence', 'Day of the week',\n",
       "       'Seasons', 'Transportation expense', 'Distance from Residence to Work',\n",
       "       'Service time', 'Age', 'Work load Average/day ', 'Hit target',\n",
       "       'Disciplinary failure', 'Education', 'Son', 'Social drinker',\n",
       "       'Social smoker', 'Pet', 'Weight', 'Height', 'Body mass index',\n",
       "       'Absenteeism time in hours', 'mask', 'Absent', 'Medical Reasons'],\n",
       "      dtype='object')"
      ]
     },
     "execution_count": 67,
     "metadata": {},
     "output_type": "execute_result"
    }
   ],
   "source": [
    "df.columns"
   ]
  },
  {
   "cell_type": "code",
   "execution_count": 68,
   "id": "72642cc6",
   "metadata": {},
   "outputs": [],
   "source": [
    "drop_cols =['Reason for absence','ID','mask', 'Weight', 'Service time','Absenteeism time in hours','mask']"
   ]
  },
  {
   "cell_type": "code",
   "execution_count": 69,
   "id": "a49070b1",
   "metadata": {},
   "outputs": [],
   "source": [
    "df.drop(columns=drop_cols, inplace = True) #drop the columns assigned above"
   ]
  },
  {
   "cell_type": "code",
   "execution_count": 70,
   "id": "70bb0ea6",
   "metadata": {},
   "outputs": [
    {
     "data": {
      "text/html": [
       "<div>\n",
       "<style scoped>\n",
       "    .dataframe tbody tr th:only-of-type {\n",
       "        vertical-align: middle;\n",
       "    }\n",
       "\n",
       "    .dataframe tbody tr th {\n",
       "        vertical-align: top;\n",
       "    }\n",
       "\n",
       "    .dataframe thead th {\n",
       "        text-align: right;\n",
       "    }\n",
       "</style>\n",
       "<table border=\"1\" class=\"dataframe\">\n",
       "  <thead>\n",
       "    <tr style=\"text-align: right;\">\n",
       "      <th></th>\n",
       "      <th>Month of absence</th>\n",
       "      <th>Day of the week</th>\n",
       "      <th>Seasons</th>\n",
       "      <th>Transportation expense</th>\n",
       "      <th>Distance from Residence to Work</th>\n",
       "      <th>Age</th>\n",
       "      <th>Work load Average/day</th>\n",
       "      <th>Hit target</th>\n",
       "      <th>Disciplinary failure</th>\n",
       "      <th>Education</th>\n",
       "      <th>Son</th>\n",
       "      <th>Social drinker</th>\n",
       "      <th>Social smoker</th>\n",
       "      <th>Pet</th>\n",
       "      <th>Height</th>\n",
       "      <th>Body mass index</th>\n",
       "      <th>Absent</th>\n",
       "      <th>Medical Reasons</th>\n",
       "    </tr>\n",
       "  </thead>\n",
       "  <tbody>\n",
       "    <tr>\n",
       "      <th>0</th>\n",
       "      <td>7</td>\n",
       "      <td>3</td>\n",
       "      <td>1</td>\n",
       "      <td>289</td>\n",
       "      <td>36</td>\n",
       "      <td>33</td>\n",
       "      <td>239554</td>\n",
       "      <td>97</td>\n",
       "      <td>0</td>\n",
       "      <td>1</td>\n",
       "      <td>2</td>\n",
       "      <td>1</td>\n",
       "      <td>0</td>\n",
       "      <td>1</td>\n",
       "      <td>172</td>\n",
       "      <td>30</td>\n",
       "      <td>1</td>\n",
       "      <td>1</td>\n",
       "    </tr>\n",
       "    <tr>\n",
       "      <th>1</th>\n",
       "      <td>7</td>\n",
       "      <td>3</td>\n",
       "      <td>1</td>\n",
       "      <td>118</td>\n",
       "      <td>13</td>\n",
       "      <td>50</td>\n",
       "      <td>239554</td>\n",
       "      <td>97</td>\n",
       "      <td>1</td>\n",
       "      <td>1</td>\n",
       "      <td>1</td>\n",
       "      <td>1</td>\n",
       "      <td>0</td>\n",
       "      <td>0</td>\n",
       "      <td>178</td>\n",
       "      <td>31</td>\n",
       "      <td>0</td>\n",
       "      <td>0</td>\n",
       "    </tr>\n",
       "    <tr>\n",
       "      <th>2</th>\n",
       "      <td>7</td>\n",
       "      <td>4</td>\n",
       "      <td>1</td>\n",
       "      <td>179</td>\n",
       "      <td>51</td>\n",
       "      <td>38</td>\n",
       "      <td>239554</td>\n",
       "      <td>97</td>\n",
       "      <td>0</td>\n",
       "      <td>1</td>\n",
       "      <td>0</td>\n",
       "      <td>1</td>\n",
       "      <td>0</td>\n",
       "      <td>0</td>\n",
       "      <td>170</td>\n",
       "      <td>31</td>\n",
       "      <td>0</td>\n",
       "      <td>1</td>\n",
       "    </tr>\n",
       "    <tr>\n",
       "      <th>3</th>\n",
       "      <td>7</td>\n",
       "      <td>5</td>\n",
       "      <td>1</td>\n",
       "      <td>279</td>\n",
       "      <td>5</td>\n",
       "      <td>39</td>\n",
       "      <td>239554</td>\n",
       "      <td>97</td>\n",
       "      <td>0</td>\n",
       "      <td>1</td>\n",
       "      <td>2</td>\n",
       "      <td>1</td>\n",
       "      <td>1</td>\n",
       "      <td>0</td>\n",
       "      <td>168</td>\n",
       "      <td>24</td>\n",
       "      <td>1</td>\n",
       "      <td>1</td>\n",
       "    </tr>\n",
       "    <tr>\n",
       "      <th>4</th>\n",
       "      <td>7</td>\n",
       "      <td>5</td>\n",
       "      <td>1</td>\n",
       "      <td>289</td>\n",
       "      <td>36</td>\n",
       "      <td>33</td>\n",
       "      <td>239554</td>\n",
       "      <td>97</td>\n",
       "      <td>0</td>\n",
       "      <td>1</td>\n",
       "      <td>2</td>\n",
       "      <td>1</td>\n",
       "      <td>0</td>\n",
       "      <td>1</td>\n",
       "      <td>172</td>\n",
       "      <td>30</td>\n",
       "      <td>0</td>\n",
       "      <td>1</td>\n",
       "    </tr>\n",
       "  </tbody>\n",
       "</table>\n",
       "</div>"
      ],
      "text/plain": [
       "   Month of absence  Day of the week  Seasons  Transportation expense  \\\n",
       "0                 7                3        1                     289   \n",
       "1                 7                3        1                     118   \n",
       "2                 7                4        1                     179   \n",
       "3                 7                5        1                     279   \n",
       "4                 7                5        1                     289   \n",
       "\n",
       "   Distance from Residence to Work  Age  Work load Average/day   Hit target  \\\n",
       "0                               36   33                  239554          97   \n",
       "1                               13   50                  239554          97   \n",
       "2                               51   38                  239554          97   \n",
       "3                                5   39                  239554          97   \n",
       "4                               36   33                  239554          97   \n",
       "\n",
       "   Disciplinary failure  Education  Son  Social drinker  Social smoker  Pet  \\\n",
       "0                     0          1    2               1              0    1   \n",
       "1                     1          1    1               1              0    0   \n",
       "2                     0          1    0               1              0    0   \n",
       "3                     0          1    2               1              1    0   \n",
       "4                     0          1    2               1              0    1   \n",
       "\n",
       "   Height  Body mass index  Absent  Medical Reasons  \n",
       "0     172               30       1                1  \n",
       "1     178               31       0                0  \n",
       "2     170               31       0                1  \n",
       "3     168               24       1                1  \n",
       "4     172               30       0                1  "
      ]
     },
     "execution_count": 70,
     "metadata": {},
     "output_type": "execute_result"
    }
   ],
   "source": [
    "df.head()"
   ]
  },
  {
   "cell_type": "code",
   "execution_count": null,
   "id": "0761f562",
   "metadata": {},
   "outputs": [],
   "source": []
  },
  {
   "cell_type": "code",
   "execution_count": 71,
   "id": "7feae08e",
   "metadata": {},
   "outputs": [],
   "source": [
    "Training_Accuracy_baseline = df['Absent'].value_counts(normalize=True).max() #establish baseline accuracy as the majority class"
   ]
  },
  {
   "cell_type": "code",
   "execution_count": 72,
   "id": "b29d78e5",
   "metadata": {},
   "outputs": [
    {
     "name": "stdout",
     "output_type": "stream",
     "text": [
      "Baseline accuracy: 0.54\n"
     ]
    }
   ],
   "source": [
    "print('Baseline accuracy:', round(Training_Accuracy_baseline, 2))"
   ]
  },
  {
   "cell_type": "code",
   "execution_count": null,
   "id": "6dff1ea3",
   "metadata": {},
   "outputs": [],
   "source": []
  },
  {
   "cell_type": "code",
   "execution_count": null,
   "id": "ba665811",
   "metadata": {},
   "outputs": [],
   "source": []
  },
  {
   "cell_type": "code",
   "execution_count": 73,
   "id": "b48efaf4",
   "metadata": {},
   "outputs": [],
   "source": [
    "target='Absent' #creating the target vector"
   ]
  },
  {
   "cell_type": "code",
   "execution_count": 74,
   "id": "222752f1",
   "metadata": {},
   "outputs": [],
   "source": [
    "y=df[target] \n",
    "drop_cols=['Absent'] \n",
    "X=df.drop(drop_cols, axis = 1)  #create feature matrix and target\n"
   ]
  },
  {
   "cell_type": "code",
   "execution_count": 75,
   "id": "cc9f279f",
   "metadata": {},
   "outputs": [
    {
     "name": "stdout",
     "output_type": "stream",
     "text": [
      "X_train shape: (592, 17)\n",
      "y_train shape: (592,)\n",
      "X_test shape: (148, 17)\n",
      "y_test shape: (148,)\n"
     ]
    }
   ],
   "source": [
    "X_train, X_test, y_train, y_test = train_test_split(X, y, test_size=0.2, random_state= 42)\n",
    "\n",
    "print(\"X_train shape:\", X_train.shape)\n",
    "print(\"y_train shape:\", y_train.shape)\n",
    "print(\"X_test shape:\", X_test.shape)\n",
    "print(\"y_test shape:\", y_test.shape)"
   ]
  },
  {
   "cell_type": "code",
   "execution_count": 76,
   "id": "ffbf3e7c",
   "metadata": {},
   "outputs": [
    {
     "name": "stdout",
     "output_type": "stream",
     "text": [
      "baseline accuracy score: 0.54\n"
     ]
    }
   ],
   "source": [
    "baseline_accuracy_score =y_train.value_counts(normalize=True).max()\n",
    "\n",
    "print('baseline accuracy score:', round(baseline_accuracy_score, 2) )"
   ]
  },
  {
   "cell_type": "code",
   "execution_count": 77,
   "id": "3afae91c",
   "metadata": {},
   "outputs": [],
   "source": [
    "model = LogisticRegression()"
   ]
  },
  {
   "cell_type": "code",
   "execution_count": 78,
   "id": "bbfd1df6",
   "metadata": {},
   "outputs": [
    {
     "data": {
      "text/html": [
       "<style>#sk-container-id-1 {color: black;background-color: white;}#sk-container-id-1 pre{padding: 0;}#sk-container-id-1 div.sk-toggleable {background-color: white;}#sk-container-id-1 label.sk-toggleable__label {cursor: pointer;display: block;width: 100%;margin-bottom: 0;padding: 0.3em;box-sizing: border-box;text-align: center;}#sk-container-id-1 label.sk-toggleable__label-arrow:before {content: \"▸\";float: left;margin-right: 0.25em;color: #696969;}#sk-container-id-1 label.sk-toggleable__label-arrow:hover:before {color: black;}#sk-container-id-1 div.sk-estimator:hover label.sk-toggleable__label-arrow:before {color: black;}#sk-container-id-1 div.sk-toggleable__content {max-height: 0;max-width: 0;overflow: hidden;text-align: left;background-color: #f0f8ff;}#sk-container-id-1 div.sk-toggleable__content pre {margin: 0.2em;color: black;border-radius: 0.25em;background-color: #f0f8ff;}#sk-container-id-1 input.sk-toggleable__control:checked~div.sk-toggleable__content {max-height: 200px;max-width: 100%;overflow: auto;}#sk-container-id-1 input.sk-toggleable__control:checked~label.sk-toggleable__label-arrow:before {content: \"▾\";}#sk-container-id-1 div.sk-estimator input.sk-toggleable__control:checked~label.sk-toggleable__label {background-color: #d4ebff;}#sk-container-id-1 div.sk-label input.sk-toggleable__control:checked~label.sk-toggleable__label {background-color: #d4ebff;}#sk-container-id-1 input.sk-hidden--visually {border: 0;clip: rect(1px 1px 1px 1px);clip: rect(1px, 1px, 1px, 1px);height: 1px;margin: -1px;overflow: hidden;padding: 0;position: absolute;width: 1px;}#sk-container-id-1 div.sk-estimator {font-family: monospace;background-color: #f0f8ff;border: 1px dotted black;border-radius: 0.25em;box-sizing: border-box;margin-bottom: 0.5em;}#sk-container-id-1 div.sk-estimator:hover {background-color: #d4ebff;}#sk-container-id-1 div.sk-parallel-item::after {content: \"\";width: 100%;border-bottom: 1px solid gray;flex-grow: 1;}#sk-container-id-1 div.sk-label:hover label.sk-toggleable__label {background-color: #d4ebff;}#sk-container-id-1 div.sk-serial::before {content: \"\";position: absolute;border-left: 1px solid gray;box-sizing: border-box;top: 0;bottom: 0;left: 50%;z-index: 0;}#sk-container-id-1 div.sk-serial {display: flex;flex-direction: column;align-items: center;background-color: white;padding-right: 0.2em;padding-left: 0.2em;position: relative;}#sk-container-id-1 div.sk-item {position: relative;z-index: 1;}#sk-container-id-1 div.sk-parallel {display: flex;align-items: stretch;justify-content: center;background-color: white;position: relative;}#sk-container-id-1 div.sk-item::before, #sk-container-id-1 div.sk-parallel-item::before {content: \"\";position: absolute;border-left: 1px solid gray;box-sizing: border-box;top: 0;bottom: 0;left: 50%;z-index: -1;}#sk-container-id-1 div.sk-parallel-item {display: flex;flex-direction: column;z-index: 1;position: relative;background-color: white;}#sk-container-id-1 div.sk-parallel-item:first-child::after {align-self: flex-end;width: 50%;}#sk-container-id-1 div.sk-parallel-item:last-child::after {align-self: flex-start;width: 50%;}#sk-container-id-1 div.sk-parallel-item:only-child::after {width: 0;}#sk-container-id-1 div.sk-dashed-wrapped {border: 1px dashed gray;margin: 0 0.4em 0.5em 0.4em;box-sizing: border-box;padding-bottom: 0.4em;background-color: white;}#sk-container-id-1 div.sk-label label {font-family: monospace;font-weight: bold;display: inline-block;line-height: 1.2em;}#sk-container-id-1 div.sk-label-container {text-align: center;}#sk-container-id-1 div.sk-container {/* jupyter's `normalize.less` sets `[hidden] { display: none; }` but bootstrap.min.css set `[hidden] { display: none !important; }` so we also need the `!important` here to be able to override the default hidden behavior on the sphinx rendered scikit-learn.org. See: https://github.com/scikit-learn/scikit-learn/issues/21755 */display: inline-block !important;position: relative;}#sk-container-id-1 div.sk-text-repr-fallback {display: none;}</style><div id=\"sk-container-id-1\" class=\"sk-top-container\"><div class=\"sk-text-repr-fallback\"><pre>LogisticRegression()</pre><b>In a Jupyter environment, please rerun this cell to show the HTML representation or trust the notebook. <br />On GitHub, the HTML representation is unable to render, please try loading this page with nbviewer.org.</b></div><div class=\"sk-container\" hidden><div class=\"sk-item\"><div class=\"sk-estimator sk-toggleable\"><input class=\"sk-toggleable__control sk-hidden--visually\" id=\"sk-estimator-id-1\" type=\"checkbox\" checked><label for=\"sk-estimator-id-1\" class=\"sk-toggleable__label sk-toggleable__label-arrow\">LogisticRegression</label><div class=\"sk-toggleable__content\"><pre>LogisticRegression()</pre></div></div></div></div></div>"
      ],
      "text/plain": [
       "LogisticRegression()"
      ]
     },
     "execution_count": 78,
     "metadata": {},
     "output_type": "execute_result"
    }
   ],
   "source": [
    "model.fit(X_train, y_train)"
   ]
  },
  {
   "cell_type": "code",
   "execution_count": 126,
   "id": "44087706",
   "metadata": {},
   "outputs": [
    {
     "name": "stdout",
     "output_type": "stream",
     "text": [
      "[[ 8.12334625e-05 -6.55772016e-05 -5.01518839e-05  6.64201171e-03\n",
      "   7.78520489e-06 -2.71820545e-04 -5.43586616e-06 -3.52490611e-04\n",
      "  -1.82873074e-05 -9.49345048e-06  9.10216050e-05  2.27720617e-05\n",
      "   1.35247894e-06  2.89195435e-05 -4.01361599e-04 -1.83239388e-04\n",
      "   9.22357010e-06]]\n"
     ]
    }
   ],
   "source": [
    "\n",
    "\n",
    "\n",
    "\n",
    "# The coefficients are in the coef_ attribute\n",
    "print(model.coef_)\n"
   ]
  },
  {
   "cell_type": "code",
   "execution_count": 79,
   "id": "32deee3f",
   "metadata": {},
   "outputs": [
    {
     "data": {
      "text/plain": [
       "0.6131756756756757"
      ]
     },
     "execution_count": 79,
     "metadata": {},
     "output_type": "execute_result"
    }
   ],
   "source": [
    "accuracy_score(y_train, model.predict(X_train))"
   ]
  },
  {
   "cell_type": "code",
   "execution_count": 80,
   "id": "acdfb65d",
   "metadata": {},
   "outputs": [
    {
     "data": {
      "text/plain": [
       "0.61"
      ]
     },
     "execution_count": 80,
     "metadata": {},
     "output_type": "execute_result"
    }
   ],
   "source": [
    "acc_train = accuracy_score(y_train, model.predict(X_train))\n",
    "round(acc_train, 2)"
   ]
  },
  {
   "cell_type": "code",
   "execution_count": 81,
   "id": "c664d8f0",
   "metadata": {},
   "outputs": [
    {
     "data": {
      "text/plain": [
       "0.5878378378378378"
      ]
     },
     "execution_count": 81,
     "metadata": {},
     "output_type": "execute_result"
    }
   ],
   "source": [
    "model.score(X_test, y_test)"
   ]
  },
  {
   "cell_type": "code",
   "execution_count": 82,
   "id": "e75fa07b",
   "metadata": {},
   "outputs": [
    {
     "data": {
      "text/plain": [
       "array([[52, 29],\n",
       "       [32, 35]], dtype=int64)"
      ]
     },
     "execution_count": 82,
     "metadata": {},
     "output_type": "execute_result"
    }
   ],
   "source": [
    "cm = confusion_matrix(y_test, model.predict(X_test)) #confusion matrix for test set\n",
    "cm"
   ]
  },
  {
   "cell_type": "code",
   "execution_count": 83,
   "id": "6db0d6ea",
   "metadata": {},
   "outputs": [],
   "source": [
    "features = X.columns #we get the features that were encoded from the pipeline"
   ]
  },
  {
   "cell_type": "code",
   "execution_count": null,
   "id": "2caf58ed",
   "metadata": {},
   "outputs": [],
   "source": []
  },
  {
   "cell_type": "code",
   "execution_count": null,
   "id": "9ceefa65",
   "metadata": {},
   "outputs": [],
   "source": []
  },
  {
   "cell_type": "code",
   "execution_count": 84,
   "id": "147e9dc6",
   "metadata": {},
   "outputs": [],
   "source": [
    "from sklearn.tree import DecisionTreeClassifier, plot_tree"
   ]
  },
  {
   "cell_type": "code",
   "execution_count": 85,
   "id": "55caa2a4",
   "metadata": {},
   "outputs": [],
   "source": [
    "model2 = make_pipeline( OrdinalEncoder(), DecisionTreeClassifier(random_state=42)\n",
    ")"
   ]
  },
  {
   "cell_type": "code",
   "execution_count": 86,
   "id": "8a417643",
   "metadata": {},
   "outputs": [
    {
     "name": "stdout",
     "output_type": "stream",
     "text": [
      "Warning: No categorical columns found. Calling 'transform' will only return input data.\n"
     ]
    },
    {
     "data": {
      "text/html": [
       "<style>#sk-container-id-2 {color: black;background-color: white;}#sk-container-id-2 pre{padding: 0;}#sk-container-id-2 div.sk-toggleable {background-color: white;}#sk-container-id-2 label.sk-toggleable__label {cursor: pointer;display: block;width: 100%;margin-bottom: 0;padding: 0.3em;box-sizing: border-box;text-align: center;}#sk-container-id-2 label.sk-toggleable__label-arrow:before {content: \"▸\";float: left;margin-right: 0.25em;color: #696969;}#sk-container-id-2 label.sk-toggleable__label-arrow:hover:before {color: black;}#sk-container-id-2 div.sk-estimator:hover label.sk-toggleable__label-arrow:before {color: black;}#sk-container-id-2 div.sk-toggleable__content {max-height: 0;max-width: 0;overflow: hidden;text-align: left;background-color: #f0f8ff;}#sk-container-id-2 div.sk-toggleable__content pre {margin: 0.2em;color: black;border-radius: 0.25em;background-color: #f0f8ff;}#sk-container-id-2 input.sk-toggleable__control:checked~div.sk-toggleable__content {max-height: 200px;max-width: 100%;overflow: auto;}#sk-container-id-2 input.sk-toggleable__control:checked~label.sk-toggleable__label-arrow:before {content: \"▾\";}#sk-container-id-2 div.sk-estimator input.sk-toggleable__control:checked~label.sk-toggleable__label {background-color: #d4ebff;}#sk-container-id-2 div.sk-label input.sk-toggleable__control:checked~label.sk-toggleable__label {background-color: #d4ebff;}#sk-container-id-2 input.sk-hidden--visually {border: 0;clip: rect(1px 1px 1px 1px);clip: rect(1px, 1px, 1px, 1px);height: 1px;margin: -1px;overflow: hidden;padding: 0;position: absolute;width: 1px;}#sk-container-id-2 div.sk-estimator {font-family: monospace;background-color: #f0f8ff;border: 1px dotted black;border-radius: 0.25em;box-sizing: border-box;margin-bottom: 0.5em;}#sk-container-id-2 div.sk-estimator:hover {background-color: #d4ebff;}#sk-container-id-2 div.sk-parallel-item::after {content: \"\";width: 100%;border-bottom: 1px solid gray;flex-grow: 1;}#sk-container-id-2 div.sk-label:hover label.sk-toggleable__label {background-color: #d4ebff;}#sk-container-id-2 div.sk-serial::before {content: \"\";position: absolute;border-left: 1px solid gray;box-sizing: border-box;top: 0;bottom: 0;left: 50%;z-index: 0;}#sk-container-id-2 div.sk-serial {display: flex;flex-direction: column;align-items: center;background-color: white;padding-right: 0.2em;padding-left: 0.2em;position: relative;}#sk-container-id-2 div.sk-item {position: relative;z-index: 1;}#sk-container-id-2 div.sk-parallel {display: flex;align-items: stretch;justify-content: center;background-color: white;position: relative;}#sk-container-id-2 div.sk-item::before, #sk-container-id-2 div.sk-parallel-item::before {content: \"\";position: absolute;border-left: 1px solid gray;box-sizing: border-box;top: 0;bottom: 0;left: 50%;z-index: -1;}#sk-container-id-2 div.sk-parallel-item {display: flex;flex-direction: column;z-index: 1;position: relative;background-color: white;}#sk-container-id-2 div.sk-parallel-item:first-child::after {align-self: flex-end;width: 50%;}#sk-container-id-2 div.sk-parallel-item:last-child::after {align-self: flex-start;width: 50%;}#sk-container-id-2 div.sk-parallel-item:only-child::after {width: 0;}#sk-container-id-2 div.sk-dashed-wrapped {border: 1px dashed gray;margin: 0 0.4em 0.5em 0.4em;box-sizing: border-box;padding-bottom: 0.4em;background-color: white;}#sk-container-id-2 div.sk-label label {font-family: monospace;font-weight: bold;display: inline-block;line-height: 1.2em;}#sk-container-id-2 div.sk-label-container {text-align: center;}#sk-container-id-2 div.sk-container {/* jupyter's `normalize.less` sets `[hidden] { display: none; }` but bootstrap.min.css set `[hidden] { display: none !important; }` so we also need the `!important` here to be able to override the default hidden behavior on the sphinx rendered scikit-learn.org. See: https://github.com/scikit-learn/scikit-learn/issues/21755 */display: inline-block !important;position: relative;}#sk-container-id-2 div.sk-text-repr-fallback {display: none;}</style><div id=\"sk-container-id-2\" class=\"sk-top-container\"><div class=\"sk-text-repr-fallback\"><pre>Pipeline(steps=[(&#x27;ordinalencoder&#x27;, OrdinalEncoder(cols=[], mapping=[])),\n",
       "                (&#x27;decisiontreeclassifier&#x27;,\n",
       "                 DecisionTreeClassifier(random_state=42))])</pre><b>In a Jupyter environment, please rerun this cell to show the HTML representation or trust the notebook. <br />On GitHub, the HTML representation is unable to render, please try loading this page with nbviewer.org.</b></div><div class=\"sk-container\" hidden><div class=\"sk-item sk-dashed-wrapped\"><div class=\"sk-label-container\"><div class=\"sk-label sk-toggleable\"><input class=\"sk-toggleable__control sk-hidden--visually\" id=\"sk-estimator-id-2\" type=\"checkbox\" ><label for=\"sk-estimator-id-2\" class=\"sk-toggleable__label sk-toggleable__label-arrow\">Pipeline</label><div class=\"sk-toggleable__content\"><pre>Pipeline(steps=[(&#x27;ordinalencoder&#x27;, OrdinalEncoder(cols=[], mapping=[])),\n",
       "                (&#x27;decisiontreeclassifier&#x27;,\n",
       "                 DecisionTreeClassifier(random_state=42))])</pre></div></div></div><div class=\"sk-serial\"><div class=\"sk-item\"><div class=\"sk-estimator sk-toggleable\"><input class=\"sk-toggleable__control sk-hidden--visually\" id=\"sk-estimator-id-3\" type=\"checkbox\" ><label for=\"sk-estimator-id-3\" class=\"sk-toggleable__label sk-toggleable__label-arrow\">OrdinalEncoder</label><div class=\"sk-toggleable__content\"><pre>OrdinalEncoder(cols=[], mapping=[])</pre></div></div></div><div class=\"sk-item\"><div class=\"sk-estimator sk-toggleable\"><input class=\"sk-toggleable__control sk-hidden--visually\" id=\"sk-estimator-id-4\" type=\"checkbox\" ><label for=\"sk-estimator-id-4\" class=\"sk-toggleable__label sk-toggleable__label-arrow\">DecisionTreeClassifier</label><div class=\"sk-toggleable__content\"><pre>DecisionTreeClassifier(random_state=42)</pre></div></div></div></div></div></div></div>"
      ],
      "text/plain": [
       "Pipeline(steps=[('ordinalencoder', OrdinalEncoder(cols=[], mapping=[])),\n",
       "                ('decisiontreeclassifier',\n",
       "                 DecisionTreeClassifier(random_state=42))])"
      ]
     },
     "execution_count": 86,
     "metadata": {},
     "output_type": "execute_result"
    }
   ],
   "source": [
    "model2.fit(X_train, y_train)"
   ]
  },
  {
   "cell_type": "code",
   "execution_count": 87,
   "id": "26dabef6",
   "metadata": {},
   "outputs": [
    {
     "name": "stdout",
     "output_type": "stream",
     "text": [
      "Model2(Decision Tree) Training Accuracy: 0.9594594594594594\n"
     ]
    }
   ],
   "source": [
    "Training_Accuracy2= model2.score(X_train, y_train)\n",
    "\n",
    "print('Model2(Decision Tree) Training Accuracy:', Training_Accuracy2)"
   ]
  },
  {
   "cell_type": "code",
   "execution_count": 88,
   "id": "95767020",
   "metadata": {},
   "outputs": [
    {
     "data": {
      "text/plain": [
       "0.9594594594594594"
      ]
     },
     "execution_count": 88,
     "metadata": {},
     "output_type": "execute_result"
    }
   ],
   "source": [
    "accuracy_score(y_train, model2.predict(X_train))"
   ]
  },
  {
   "cell_type": "code",
   "execution_count": 89,
   "id": "f5ec362f",
   "metadata": {},
   "outputs": [
    {
     "name": "stdout",
     "output_type": "stream",
     "text": [
      "Model 2 (Decision Tree)Test Score: 0.7\n"
     ]
    }
   ],
   "source": [
    "Test_Accuracy2=model2.score(X_test, y_test)\n",
    "print('Model 2 (Decision Tree)Test Score:',round(Test_Accuracy2, 2) )"
   ]
  },
  {
   "cell_type": "code",
   "execution_count": 90,
   "id": "35f0aaa0",
   "metadata": {},
   "outputs": [
    {
     "data": {
      "text/plain": [
       "array([[59, 22],\n",
       "       [23, 44]], dtype=int64)"
      ]
     },
     "execution_count": 90,
     "metadata": {},
     "output_type": "execute_result"
    }
   ],
   "source": [
    "cm = confusion_matrix(y_test, model2.predict(X_test))\n",
    "cm"
   ]
  },
  {
   "cell_type": "code",
   "execution_count": 96,
   "id": "1f743219",
   "metadata": {},
   "outputs": [
    {
     "name": "stdout",
     "output_type": "stream",
     "text": [
      "              precision    recall  f1-score   support\n",
      "\n",
      "           0       0.72      0.73      0.72        81\n",
      "           1       0.67      0.66      0.66        67\n",
      "\n",
      "    accuracy                           0.70       148\n",
      "   macro avg       0.69      0.69      0.69       148\n",
      "weighted avg       0.70      0.70      0.70       148\n",
      "\n"
     ]
    }
   ],
   "source": [
    "\n",
    "y_pred = model2.predict(X_test)  # Use X_test, not y_train\n",
    "print(classification_report(y_test, y_pred))"
   ]
  },
  {
   "cell_type": "code",
   "execution_count": null,
   "id": "c205283d",
   "metadata": {},
   "outputs": [],
   "source": []
  },
  {
   "cell_type": "code",
   "execution_count": null,
   "id": "3319da0e",
   "metadata": {},
   "outputs": [],
   "source": []
  },
  {
   "cell_type": "code",
   "execution_count": 97,
   "id": "eca5c2af",
   "metadata": {},
   "outputs": [
    {
     "data": {
      "text/plain": [
       "17"
      ]
     },
     "execution_count": 97,
     "metadata": {},
     "output_type": "execute_result"
    }
   ],
   "source": [
    "model2.named_steps['decisiontreeclassifier'].get_depth()"
   ]
  },
  {
   "cell_type": "code",
   "execution_count": 98,
   "id": "7038c7d4",
   "metadata": {},
   "outputs": [],
   "source": [
    "depth_hyperparams = range(1,18)"
   ]
  },
  {
   "cell_type": "code",
   "execution_count": 101,
   "id": "66387bcf",
   "metadata": {},
   "outputs": [],
   "source": [
    "training_accuracy = []\n",
    "test_accuracy=[]\n",
    "\n",
    "\n",
    "for n in depth_hyperparams:\n",
    "    test_model=make_pipeline(DecisionTreeClassifier(random_state=42 , max_depth=n))\n",
    "    \n",
    "    test_model.fit(X_train, y_train)\n",
    "    \n",
    "    training_accuracy.append(test_model.score(X_train, y_train))\n",
    "    \n",
    "    test_accuracy.append(test_model.score(X_test, y_test))\n",
    "    \n",
    "    \n",
    "    "
   ]
  },
  {
   "cell_type": "code",
   "execution_count": 103,
   "id": "4aa6dd96",
   "metadata": {},
   "outputs": [
    {
     "data": {
      "image/png": "[encoded data removed]",
      "text/plain": [
       "<Figure size 640x480 with 1 Axes>"
      ]
     },
     "metadata": {},
     "output_type": "display_data"
    }
   ],
   "source": [
    "\n",
    "\n",
    "plt.plot(depth_hyperparams, training_accuracy, label='Training Accuracy')\n",
    "plt.plot(depth_hyperparams, test_accuracy, label='Test Accuracy')\n",
    "\n",
    "plt.title('Training Accuracy vs Test Accuracy')  # Title of the plot\n",
    "plt.xlabel('Depth')  # Label for the x-axis\n",
    "plt.ylabel('Accuracy')  # Label for the y-axis\n",
    "plt.legend()  # Adds a legend using the labels specified in the plot() calls\n",
    "\n",
    "plt.show()\n"
   ]
  },
  {
   "cell_type": "code",
   "execution_count": null,
   "id": "99defd3e",
   "metadata": {},
   "outputs": [],
   "source": [
    "fig, ax = plt.subplots(figsize=(25, 12))\n",
    "# Plot tree\n",
    "plot_tree(\n",
    "    decision_tree=model2.named_steps['decisiontreeclassifier'],\n",
    "    feature_names= X_train.columns,\n",
    "    filled=True,  # Color leaf with class\n",
    "    rounded=True,  # Round leaf edges\n",
    "    proportion=True,  # Display proportion of classes in leaf\n",
    "    max_depth=3,  # Only display first 3 levels\n",
    "    fontsize=12,  # Enlarge font\n",
    "    ax=ax,  # Place in figure axis\n",
    ");"
   ]
  },
  {
   "cell_type": "code",
   "execution_count": 127,
   "id": "d6593c21",
   "metadata": {},
   "outputs": [
    {
     "name": "stdout",
     "output_type": "stream",
     "text": [
      "                                 importance\n",
      "Transportation expense             0.006642\n",
      "Son                                0.000091\n",
      "Month of absence                   0.000081\n",
      "Pet                                0.000029\n",
      "Social drinker                     0.000023\n",
      "Medical Reasons                    0.000009\n",
      "Distance from Residence to Work    0.000008\n",
      "Social smoker                      0.000001\n",
      "Work load Average/day             -0.000005\n",
      "Education                         -0.000009\n",
      "Disciplinary failure              -0.000018\n",
      "Seasons                           -0.000050\n",
      "Day of the week                   -0.000066\n",
      "Body mass index                   -0.000183\n",
      "Age                               -0.000272\n",
      "Hit target                        -0.000352\n",
      "Height                            -0.000401\n"
     ]
    }
   ],
   "source": [
    "\n",
    "\n",
    "feature_importances = pd.DataFrame(model.coef_[0], index = X_train.columns, columns=['importance']).sort_values('importance', ascending=False)\n",
    "print(feature_importances)\n"
   ]
  },
  {
   "cell_type": "code",
   "execution_count": 106,
   "id": "473dd347",
   "metadata": {},
   "outputs": [],
   "source": [
    "features=X.columns\n",
    "importances2 = model2.named_steps['decisiontreeclassifier'].feature_importances_\n",
    "\n",
    "\n",
    "\n"
   ]
  },
  {
   "cell_type": "code",
   "execution_count": 124,
   "id": "3eb38a65",
   "metadata": {},
   "outputs": [
    {
     "ename": "NameError",
     "evalue": "name 'importances1' is not defined",
     "output_type": "error",
     "traceback": [
      "\u001b[1;31m---------------------------------------------------------------------------\u001b[0m",
      "\u001b[1;31mNameError\u001b[0m                                 Traceback (most recent call last)",
      "Cell \u001b[1;32mIn[124], line 1\u001b[0m\n\u001b[1;32m----> 1\u001b[0m Decision_Tree_Feature_Importances \u001b[38;5;241m=\u001b[39m pd\u001b[38;5;241m.\u001b[39mSeries(\u001b[43mimportances1\u001b[49m, index\u001b[38;5;241m=\u001b[39mfeatures)\u001b[38;5;241m.\u001b[39msort_values()\n",
      "\u001b[1;31mNameError\u001b[0m: name 'importances1' is not defined"
     ]
    }
   ],
   "source": [
    "Decision_Tree_Feature_Importances = pd.Series(importances1, index=features).sort_values()"
   ]
  },
  {
   "cell_type": "code",
   "execution_count": 109,
   "id": "d5f0648b",
   "metadata": {},
   "outputs": [],
   "source": [
    "Logistic_Regression_Feature_Importances = pd.Series((importances2), index=features).sort_values()"
   ]
  },
  {
   "cell_type": "code",
   "execution_count": 122,
   "id": "ec656d38",
   "metadata": {},
   "outputs": [
    {
     "name": "stdout",
     "output_type": "stream",
     "text": [
      "Work load Average/day              0.162332\n",
      "Day of the week                    0.134078\n",
      "Hit target                         0.115170\n",
      "Transportation expense             0.113675\n",
      "Month of absence                   0.107340\n",
      "Disciplinary failure               0.076896\n",
      "Age                                0.056284\n",
      "Seasons                            0.044401\n",
      "Pet                                0.039049\n",
      "Son                                0.036578\n",
      "Height                             0.032427\n",
      "Distance from Residence to Work    0.025701\n",
      "Body mass index                    0.022946\n",
      "Education                          0.016062\n",
      "Social smoker                      0.009853\n",
      "Medical Reasons                    0.004971\n",
      "Social drinker                     0.002237\n",
      "dtype: float64\n"
     ]
    }
   ],
   "source": [
    "print( Logistic_Regression_Feature_Importances.sort_values(ascending=False))"
   ]
  },
  {
   "cell_type": "code",
   "execution_count": 111,
   "id": "b90a2cd9",
   "metadata": {},
   "outputs": [
    {
     "data": {
      "text/plain": [
       "1.0"
      ]
     },
     "execution_count": 111,
     "metadata": {},
     "output_type": "execute_result"
    }
   ],
   "source": [
    "Logistic_Regression_Feature_Importances.sum()"
   ]
  },
  {
   "cell_type": "code",
   "execution_count": 112,
   "id": "c8678414",
   "metadata": {},
   "outputs": [
    {
     "data": {
      "text/plain": [
       "1.0"
      ]
     },
     "execution_count": 112,
     "metadata": {},
     "output_type": "execute_result"
    }
   ],
   "source": [
    "Decision_Tree_Feature_Importances.sum()"
   ]
  },
  {
   "cell_type": "code",
   "execution_count": 114,
   "id": "913d9081",
   "metadata": {},
   "outputs": [
    {
     "data": {
      "image/png": "[encoded data removed]",
      "text/plain": [
       "<Figure size 640x480 with 1 Axes>"
      ]
     },
     "metadata": {},
     "output_type": "display_data"
    }
   ],
   "source": [
    "#Model interpretation\n",
    "import matplotlib.pyplot as plt\n",
    "\n",
    "Decision_Tree_Feature_Importances.plot(kind='barh')\n",
    "\n",
    "plt.title('Feature Importances')  # Title of the plot\n",
    "plt.xlabel('Importance')  # Label for the x-axis\n",
    "plt.ylabel('Features')  # Label for the y-axis\n",
    "\n",
    "plt.show()\n"
   ]
  },
  {
   "cell_type": "code",
   "execution_count": 128,
   "id": "95ffd1d1",
   "metadata": {},
   "outputs": [],
   "source": [
    "import pickle\n",
    "\n",
    "\n",
    "with open('model.pkl', 'wb') as file:\n",
    "    pickle.dump(model, file)\n"
   ]
  },
  {
   "cell_type": "code",
   "execution_count": 129,
   "id": "53c3e4d6",
   "metadata": {},
   "outputs": [],
   "source": [
    "import pickle\n",
    "\n",
    "\n",
    "with open('model2.pkl', 'wb') as file:\n",
    "    pickle.dump(model, file)\n"
   ]
  },
  {
   "cell_type": "code",
   "execution_count": 132,
   "id": "addbd06d",
   "metadata": {},
   "outputs": [
    {
     "data": {
      "text/plain": [
       "['model.joblib']"
      ]
     },
     "execution_count": 132,
     "metadata": {},
     "output_type": "execute_result"
    }
   ],
   "source": [
    "from joblib import dump, load\n",
    "\n",
    "# Save the model\n",
    "dump(model, 'model.joblib')\n",
    "\n",
    "# Load the model\n",
    "\n"
   ]
  },
  {
   "cell_type": "code",
   "execution_count": 131,
   "id": "a8358a3f",
   "metadata": {},
   "outputs": [
    {
     "data": {
      "text/plain": [
       "['model2.joblib']"
      ]
     },
     "execution_count": 131,
     "metadata": {},
     "output_type": "execute_result"
    }
   ],
   "source": [
    "dump(model2, 'model2.joblib')"
   ]
  },
  {
   "cell_type": "code",
   "execution_count": 140,
   "id": "4c5cf906",
   "metadata": {},
   "outputs": [
    {
     "name": "stdout",
     "output_type": "stream",
     "text": [
      "Note: you may need to restart the kernel to use updated packages.\n"
     ]
    }
   ],
   "source": [
    "pip freeze > requirements.txt"
   ]
  },
  {
   "cell_type": "code",
   "execution_count": 139,
   "id": "3fa5fa55",
   "metadata": {},
   "outputs": [
    {
     "name": "stdout",
     "output_type": "stream",
     "text": [
      "Requirement already satisfied: pipreqs in c:\\users\\user\\anaconda32020\\lib\\site-packages (0.4.13)\n",
      "Requirement already satisfied: yarg in c:\\users\\user\\anaconda32020\\lib\\site-packages (from pipreqs) (0.1.9)\n",
      "Requirement already satisfied: docopt in c:\\users\\user\\anaconda32020\\lib\\site-packages (from pipreqs) (0.6.2)\n",
      "Requirement already satisfied: requests in c:\\users\\user\\anaconda32020\\lib\\site-packages (from yarg->pipreqs) (2.28.1)\n",
      "Requirement already satisfied: idna<4,>=2.5 in c:\\users\\user\\anaconda32020\\lib\\site-packages (from requests->yarg->pipreqs) (3.4)\n",
      "Requirement already satisfied: urllib3<1.27,>=1.21.1 in c:\\users\\user\\anaconda32020\\lib\\site-packages (from requests->yarg->pipreqs) (1.26.14)\n",
      "Requirement already satisfied: charset-normalizer<3,>=2 in c:\\users\\user\\anaconda32020\\lib\\site-packages (from requests->yarg->pipreqs) (2.0.4)\n",
      "Requirement already satisfied: certifi>=2017.4.17 in c:\\users\\user\\anaconda32020\\lib\\site-packages (from requests->yarg->pipreqs) (2022.12.7)\n"
     ]
    },
    {
     "name": "stderr",
     "output_type": "stream",
     "text": [
      "INFO: Successfully saved requirements file in ./requirements.txt\n"
     ]
    }
   ],
   "source": [
    "#!pip install pipreqs\n",
    "#!pipreqs ./ --force\n"
   ]
  },
  {
   "cell_type": "code",
   "execution_count": 138,
   "id": "1431eeb4",
   "metadata": {},
   "outputs": [
    {
     "ename": "NameError",
     "evalue": "name 'force' is not defined",
     "output_type": "error",
     "traceback": [
      "\u001b[1;31m---------------------------------------------------------------------------\u001b[0m",
      "\u001b[1;31mNameError\u001b[0m                                 Traceback (most recent call last)",
      "Cell \u001b[1;32mIn[138], line 1\u001b[0m\n\u001b[1;32m----> 1\u001b[0m \u001b[38;5;241m-\u001b[39m\u001b[38;5;241m-\u001b[39m\u001b[43mforce\u001b[49m\n",
      "\u001b[1;31mNameError\u001b[0m: name 'force' is not defined"
     ]
    }
   ],
   "source": [
    "--force"
   ]
  },
  {
   "cell_type": "code",
   "execution_count": null,
   "id": "638b97b0",
   "metadata": {},
   "outputs": [],
   "source": []
  }
 ],
 "metadata": {
  "kernelspec": {
   "display_name": "Python 3 (ipykernel)",
   "language": "python",
   "name": "python3"
  },
  "language_info": {
   "codemirror_mode": {
    "name": "ipython",
    "version": 3
   },
   "file_extension": ".py",
   "mimetype": "text/x-python",
   "name": "python",
   "nbconvert_exporter": "python",
   "pygments_lexer": "ipython3",
   "version": "3.10.9"
  }
 },
 "nbformat": 4,
 "nbformat_minor": 5
}
